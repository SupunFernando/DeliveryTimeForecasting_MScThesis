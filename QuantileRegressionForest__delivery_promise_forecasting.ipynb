{
 "cells": [
  {
   "cell_type": "code",
   "execution_count": 1,
   "id": "5d92abff",
   "metadata": {},
   "outputs": [],
   "source": [
    "import pandas as pd\n",
    "import numpy as np\n",
    "import matplotlib.pyplot as plt\n",
    "import seaborn as sns\n",
    "import plotly.express as px\n",
    "%matplotlib inline\n",
    "import warnings\n",
    "warnings.filterwarnings('ignore')"
   ]
  },
  {
   "cell_type": "code",
   "execution_count": 2,
   "id": "7e874805",
   "metadata": {},
   "outputs": [],
   "source": [
    "df = pd.read_csv(r\"C:\\Users\\Supun\\Desktop\\SUPUN_DATA_PERSONAL\\myfiles\\MScDA\\DS\\msc research/dump_ecommerce.csv\")"
   ]
  },
  {
   "cell_type": "code",
   "execution_count": 3,
   "id": "4158fe55",
   "metadata": {},
   "outputs": [
    {
     "name": "stdout",
     "output_type": "stream",
     "text": [
      "<class 'pandas.core.frame.DataFrame'>\n",
      "RangeIndex: 857573 entries, 0 to 857572\n",
      "Data columns (total 37 columns):\n",
      " #   Column                            Non-Null Count   Dtype  \n",
      "---  ------                            --------------   -----  \n",
      " 0   tracking_number                   857573 non-null  object \n",
      " 1   platform_order_number             857573 non-null  int64  \n",
      " 2   item_cnt                          857573 non-null  int64  \n",
      " 3   origin_type                       857573 non-null  object \n",
      " 4   seller_id                         857573 non-null  int64  \n",
      " 5   seller_rating                     857573 non-null  float64\n",
      " 6   seller_address                    857573 non-null  object \n",
      " 7   lvl2_origin_address_name          847596 non-null  object \n",
      " 8   lvl3_origin_address_name          847596 non-null  object \n",
      " 9   lvl4_origin_address_name          847596 non-null  object \n",
      " 10  fm_delivery_type                  857565 non-null  object \n",
      " 11  fm_3pl_name                       857565 non-null  object \n",
      " 12  fmsp                              847452 non-null  object \n",
      " 13  first_sc_node_name                831512 non-null  object \n",
      " 14  fm_node_name                      857310 non-null  object \n",
      " 15  shipping_type                     857573 non-null  object \n",
      " 16  lm_3pl_name                       856415 non-null  object \n",
      " 17  lmsp                              857573 non-null  object \n",
      " 18  customer_address                  857573 non-null  object \n",
      " 19  lvl2_destination_address_name     857573 non-null  object \n",
      " 20  lvl3_destination_address_name     857572 non-null  object \n",
      " 21  lvl4_destination_address_name     857561 non-null  object \n",
      " 22  package_weight                    857573 non-null  float64\n",
      " 23  package_height                    857573 non-null  float64\n",
      " 24  package_length                    857573 non-null  float64\n",
      " 25  package_width                     857573 non-null  float64\n",
      " 26  is_bulky                          857573 non-null  int64  \n",
      " 27  payment_type                      857573 non-null  object \n",
      " 28  payment_type_                     857573 non-null  object \n",
      " 29  order_creation_ts                 857573 non-null  object \n",
      " 30  lvl1_rts_ts                       857573 non-null  object \n",
      " 31  lvl1_tts_ts                       834703 non-null  object \n",
      " 32  lvl1_shipped_ts                   834735 non-null  object \n",
      " 33  lvl1_delivered_ts                 763747 non-null  object \n",
      " 34  lvl1_delivery_failed_ts           65832 non-null   object \n",
      " 35  platform_delivery_promise_min_ts  857573 non-null  object \n",
      " 36  platform_delivery_promise_max_ts  857573 non-null  object \n",
      "dtypes: float64(5), int64(4), object(28)\n",
      "memory usage: 242.1+ MB\n"
     ]
    }
   ],
   "source": [
    "df.info()"
   ]
  },
  {
   "cell_type": "code",
   "execution_count": 4,
   "id": "ec389292",
   "metadata": {},
   "outputs": [],
   "source": [
    "# change date columns from object to date\n",
    "df[['order_creation_ts','lvl1_rts_ts','lvl1_tts_ts','lvl1_shipped_ts','lvl1_delivered_ts','lvl1_delivery_failed_ts','platform_delivery_promise_min_ts','platform_delivery_promise_max_ts']]=df[['order_creation_ts','lvl1_rts_ts','lvl1_tts_ts','lvl1_shipped_ts','lvl1_delivered_ts','lvl1_delivery_failed_ts','platform_delivery_promise_min_ts','platform_delivery_promise_max_ts']].apply(pd.to_datetime) "
   ]
  },
  {
   "cell_type": "code",
   "execution_count": 5,
   "id": "896a5ff9",
   "metadata": {},
   "outputs": [
    {
     "name": "stdout",
     "output_type": "stream",
     "text": [
      "<class 'pandas.core.frame.DataFrame'>\n",
      "RangeIndex: 857573 entries, 0 to 857572\n",
      "Data columns (total 37 columns):\n",
      " #   Column                            Non-Null Count   Dtype         \n",
      "---  ------                            --------------   -----         \n",
      " 0   tracking_number                   857573 non-null  object        \n",
      " 1   platform_order_number             857573 non-null  int64         \n",
      " 2   item_cnt                          857573 non-null  int64         \n",
      " 3   origin_type                       857573 non-null  object        \n",
      " 4   seller_id                         857573 non-null  int64         \n",
      " 5   seller_rating                     857573 non-null  float64       \n",
      " 6   seller_address                    857573 non-null  object        \n",
      " 7   lvl2_origin_address_name          847596 non-null  object        \n",
      " 8   lvl3_origin_address_name          847596 non-null  object        \n",
      " 9   lvl4_origin_address_name          847596 non-null  object        \n",
      " 10  fm_delivery_type                  857565 non-null  object        \n",
      " 11  fm_3pl_name                       857565 non-null  object        \n",
      " 12  fmsp                              847452 non-null  object        \n",
      " 13  first_sc_node_name                831512 non-null  object        \n",
      " 14  fm_node_name                      857310 non-null  object        \n",
      " 15  shipping_type                     857573 non-null  object        \n",
      " 16  lm_3pl_name                       856415 non-null  object        \n",
      " 17  lmsp                              857573 non-null  object        \n",
      " 18  customer_address                  857573 non-null  object        \n",
      " 19  lvl2_destination_address_name     857573 non-null  object        \n",
      " 20  lvl3_destination_address_name     857572 non-null  object        \n",
      " 21  lvl4_destination_address_name     857561 non-null  object        \n",
      " 22  package_weight                    857573 non-null  float64       \n",
      " 23  package_height                    857573 non-null  float64       \n",
      " 24  package_length                    857573 non-null  float64       \n",
      " 25  package_width                     857573 non-null  float64       \n",
      " 26  is_bulky                          857573 non-null  int64         \n",
      " 27  payment_type                      857573 non-null  object        \n",
      " 28  payment_type_                     857573 non-null  object        \n",
      " 29  order_creation_ts                 857573 non-null  datetime64[ns]\n",
      " 30  lvl1_rts_ts                       857573 non-null  datetime64[ns]\n",
      " 31  lvl1_tts_ts                       834703 non-null  datetime64[ns]\n",
      " 32  lvl1_shipped_ts                   834735 non-null  datetime64[ns]\n",
      " 33  lvl1_delivered_ts                 763747 non-null  datetime64[ns]\n",
      " 34  lvl1_delivery_failed_ts           65832 non-null   datetime64[ns]\n",
      " 35  platform_delivery_promise_min_ts  857573 non-null  datetime64[ns]\n",
      " 36  platform_delivery_promise_max_ts  857573 non-null  datetime64[ns]\n",
      "dtypes: datetime64[ns](8), float64(5), int64(4), object(20)\n",
      "memory usage: 242.1+ MB\n"
     ]
    }
   ],
   "source": [
    "df.info()"
   ]
  },
  {
   "cell_type": "code",
   "execution_count": 6,
   "id": "5e5c9e82",
   "metadata": {},
   "outputs": [],
   "source": [
    "delivery_analysis = df[['tracking_number','seller_rating','shipping_type','origin_type','package_weight', 'lvl4_origin_address_name','is_bulky', 'payment_type_',\n",
    "       'fm_delivery_type', 'order_creation_ts','lvl3_destination_address_name','item_cnt','lmsp','lvl3_origin_address_name', 'fmsp',\n",
    "       'lvl1_rts_ts','lvl1_tts_ts','lvl1_shipped_ts','lvl1_delivered_ts','lvl1_delivery_failed_ts','platform_delivery_promise_min_ts','platform_delivery_promise_max_ts']]"
   ]
  },
  {
   "cell_type": "code",
   "execution_count": 7,
   "id": "7640ee08",
   "metadata": {},
   "outputs": [],
   "source": [
    "delivered_analysis = delivery_analysis[delivery_analysis['origin_type']=='Domestic']"
   ]
  },
  {
   "cell_type": "code",
   "execution_count": 8,
   "id": "274bb392",
   "metadata": {},
   "outputs": [],
   "source": [
    "delivered_analysis = delivered_analysis[delivery_analysis['lvl1_delivered_ts'].notnull()]"
   ]
  },
  {
   "cell_type": "code",
   "execution_count": 9,
   "id": "3ba414ee",
   "metadata": {},
   "outputs": [
    {
     "name": "stdout",
     "output_type": "stream",
     "text": [
      "Domestic    763746\n",
      "Name: origin_type, dtype: int64\n"
     ]
    }
   ],
   "source": [
    "distinct_origin_types = delivered_analysis['origin_type'].value_counts()\n",
    "print(distinct_origin_types)"
   ]
  },
  {
   "cell_type": "code",
   "execution_count": 10,
   "id": "7ddf0147",
   "metadata": {},
   "outputs": [],
   "source": [
    "# Calculate the delivery time in hours\n",
    "delivered_analysis['delivery_time'] = (delivered_analysis['lvl1_delivered_ts'] - delivered_analysis['order_creation_ts']).astype('timedelta64[h]')"
   ]
  },
  {
   "cell_type": "code",
   "execution_count": 11,
   "id": "1acd2f12",
   "metadata": {},
   "outputs": [],
   "source": [
    "# # Convert order_creation_ts and lvl1_delivered_ts columns to numpy datetime64 arrays\n",
    "order_creation_dates = delivered_analysis['order_creation_ts'].values.astype('datetime64[D]')\n",
    "lvl1_delivered_dates = delivered_analysis['lvl1_delivered_ts'].values.astype('datetime64[D]')\n",
    "\n",
    "# Calculate the number of Sundays between order creation and lvl1_delivered dates\n",
    "sundays = np.busday_count(order_creation_dates, lvl1_delivered_dates, weekmask='1111110')"
   ]
  },
  {
   "cell_type": "code",
   "execution_count": 12,
   "id": "7448b976",
   "metadata": {},
   "outputs": [],
   "source": [
    " # Calculate the delivery time in hours\n",
    "delivered_analysis['delivery_time'] = (delivered_analysis['lvl1_delivered_ts'] - delivered_analysis['order_creation_ts']).astype('timedelta64[h]')\n",
    "\n",
    "# # Convert order_creation_ts and lvl1_delivered_ts columns to numpy datetime64 arrays\n",
    "order_creation_dates = delivered_analysis['order_creation_ts'].values.astype('datetime64[D]')\n",
    "lvl1_delivered_dates = delivered_analysis['lvl1_delivered_ts'].values.astype('datetime64[D]')\n",
    "\n",
    "# # Calculate the number of Sundays between order creation and lvl1_delivered dates\n",
    "sundays = np.busday_count(order_creation_dates, lvl1_delivered_dates, weekmask='1111110')\n",
    "\n",
    "# # Deduct 24 hours for each Sunday, up to a maximum of the delivery time\n",
    "deduction = np.minimum(sundays, delivered_analysis['delivery_time'] // 24) * 24\n",
    "delivered_analysis.loc[sundays > 0, 'delivery_time'] -= deduction[sundays > 0]\n"
   ]
  },
  {
   "cell_type": "code",
   "execution_count": 13,
   "id": "e14f3d72",
   "metadata": {},
   "outputs": [
    {
     "name": "stdout",
     "output_type": "stream",
     "text": [
      "23.0     42994\n",
      "22.0     42761\n",
      "21.0     41652\n",
      "20.0     40855\n",
      "19.0     40383\n",
      "         ...  \n",
      "129.0        1\n",
      "107.0        1\n",
      "100.0        1\n",
      "91.0         1\n",
      "114.0        1\n",
      "Name: delivery_time, Length: 105, dtype: int64\n"
     ]
    }
   ],
   "source": [
    "distinct_dt = delivered_analysis['delivery_time'].value_counts()\n",
    "print(distinct_dt)"
   ]
  },
  {
   "cell_type": "code",
   "execution_count": 14,
   "id": "31940f6c",
   "metadata": {},
   "outputs": [
    {
     "name": "stdout",
     "output_type": "stream",
     "text": [
      "763746\n"
     ]
    }
   ],
   "source": [
    "num_rows = len(delivered_analysis)\n",
    "print(num_rows)"
   ]
  },
  {
   "cell_type": "code",
   "execution_count": 15,
   "id": "a942a5cb",
   "metadata": {},
   "outputs": [],
   "source": [
    "# Calculate the 99th percentile of delivery time\n",
    "delivery_time_99th = delivered_analysis['delivery_time'].quantile(0.99)\n",
    "\n",
    "# Filter out rows with delivery times greater than the 99th percentile or negative delivery time\n",
    "delivered_analysis = delivered_analysis.loc[(delivered_analysis['delivery_time'] >= 4) & \n",
    "                                             (delivered_analysis['delivery_time'] <= delivery_time_99th)]\n"
   ]
  },
  {
   "cell_type": "code",
   "execution_count": 16,
   "id": "2171ea5b",
   "metadata": {},
   "outputs": [
    {
     "name": "stdout",
     "output_type": "stream",
     "text": [
      "23.0    42994\n",
      "22.0    42761\n",
      "21.0    41652\n",
      "20.0    40855\n",
      "19.0    40383\n",
      "18.0    39547\n",
      "17.0    39359\n",
      "16.0    39224\n",
      "15.0    37497\n",
      "14.0    34193\n",
      "13.0    29035\n",
      "24.0    24421\n",
      "25.0    22639\n",
      "12.0    22401\n",
      "26.0    20569\n",
      "27.0    17762\n",
      "11.0    15467\n",
      "28.0    14850\n",
      "29.0    12186\n",
      "4.0     11882\n",
      "10.0     9936\n",
      "30.0     9433\n",
      "5.0      9369\n",
      "6.0      7677\n",
      "31.0     7577\n",
      "8.0      6879\n",
      "7.0      6784\n",
      "9.0      6463\n",
      "32.0     6460\n",
      "33.0     5811\n",
      "34.0     5179\n",
      "35.0     4232\n",
      "36.0     3577\n",
      "37.0     2929\n",
      "38.0     1976\n",
      "39.0     1684\n",
      "40.0     1450\n",
      "41.0     1262\n",
      "42.0     1099\n",
      "43.0      959\n",
      "44.0      919\n",
      "45.0      845\n",
      "46.0      831\n",
      "Name: delivery_time, dtype: int64\n"
     ]
    }
   ],
   "source": [
    "distinct_dt = delivered_analysis['delivery_time'].value_counts()\n",
    "print(distinct_dt)"
   ]
  },
  {
   "cell_type": "code",
   "execution_count": 17,
   "id": "789eb437",
   "metadata": {},
   "outputs": [
    {
     "name": "stdout",
     "output_type": "stream",
     "text": [
      "693008\n"
     ]
    }
   ],
   "source": [
    "num_rows = len(delivered_analysis)\n",
    "print(num_rows)"
   ]
  },
  {
   "cell_type": "code",
   "execution_count": 18,
   "id": "8610a6cc",
   "metadata": {},
   "outputs": [],
   "source": [
    "df_zero_delivery_time = delivered_analysis[delivered_analysis['delivery_time'] == 0]"
   ]
  },
  {
   "cell_type": "code",
   "execution_count": 19,
   "id": "58c3ea75",
   "metadata": {},
   "outputs": [
    {
     "data": {
      "text/html": [
       "<div>\n",
       "<style scoped>\n",
       "    .dataframe tbody tr th:only-of-type {\n",
       "        vertical-align: middle;\n",
       "    }\n",
       "\n",
       "    .dataframe tbody tr th {\n",
       "        vertical-align: top;\n",
       "    }\n",
       "\n",
       "    .dataframe thead th {\n",
       "        text-align: right;\n",
       "    }\n",
       "</style>\n",
       "<table border=\"1\" class=\"dataframe\">\n",
       "  <thead>\n",
       "    <tr style=\"text-align: right;\">\n",
       "      <th></th>\n",
       "      <th>tracking_number</th>\n",
       "      <th>seller_rating</th>\n",
       "      <th>shipping_type</th>\n",
       "      <th>origin_type</th>\n",
       "      <th>package_weight</th>\n",
       "      <th>lvl4_origin_address_name</th>\n",
       "      <th>is_bulky</th>\n",
       "      <th>payment_type_</th>\n",
       "      <th>fm_delivery_type</th>\n",
       "      <th>order_creation_ts</th>\n",
       "      <th>...</th>\n",
       "      <th>lvl3_origin_address_name</th>\n",
       "      <th>fmsp</th>\n",
       "      <th>lvl1_rts_ts</th>\n",
       "      <th>lvl1_tts_ts</th>\n",
       "      <th>lvl1_shipped_ts</th>\n",
       "      <th>lvl1_delivered_ts</th>\n",
       "      <th>lvl1_delivery_failed_ts</th>\n",
       "      <th>platform_delivery_promise_min_ts</th>\n",
       "      <th>platform_delivery_promise_max_ts</th>\n",
       "      <th>delivery_time</th>\n",
       "    </tr>\n",
       "  </thead>\n",
       "  <tbody>\n",
       "  </tbody>\n",
       "</table>\n",
       "<p>0 rows × 23 columns</p>\n",
       "</div>"
      ],
      "text/plain": [
       "Empty DataFrame\n",
       "Columns: [tracking_number, seller_rating, shipping_type, origin_type, package_weight, lvl4_origin_address_name, is_bulky, payment_type_, fm_delivery_type, order_creation_ts, lvl3_destination_address_name, item_cnt, lmsp, lvl3_origin_address_name, fmsp, lvl1_rts_ts, lvl1_tts_ts, lvl1_shipped_ts, lvl1_delivered_ts, lvl1_delivery_failed_ts, platform_delivery_promise_min_ts, platform_delivery_promise_max_ts, delivery_time]\n",
       "Index: []\n",
       "\n",
       "[0 rows x 23 columns]"
      ]
     },
     "execution_count": 19,
     "metadata": {},
     "output_type": "execute_result"
    }
   ],
   "source": [
    "df_zero_delivery_time.head(2500)"
   ]
  },
  {
   "cell_type": "code",
   "execution_count": 20,
   "id": "eab3d601",
   "metadata": {},
   "outputs": [
    {
     "data": {
      "text/plain": [
       "count    693008.000000\n",
       "mean         19.513756\n",
       "std           7.158345\n",
       "min           4.000000\n",
       "25%          15.000000\n",
       "50%          19.000000\n",
       "75%          23.000000\n",
       "max          46.000000\n",
       "Name: delivery_time, dtype: float64"
      ]
     },
     "execution_count": 20,
     "metadata": {},
     "output_type": "execute_result"
    }
   ],
   "source": [
    "delivered_analysis['delivery_time'].describe()"
   ]
  },
  {
   "cell_type": "code",
   "execution_count": 21,
   "id": "d6644e69",
   "metadata": {},
   "outputs": [],
   "source": [
    "# Filter out orders with missing promise dates\n",
    "valid_orders = delivered_analysis.dropna(subset=['platform_delivery_promise_min_ts', 'platform_delivery_promise_max_ts'])\n",
    "\n",
    "# Convert platform_delivery_promise_min_ts and platform_delivery_promise_max_ts columns to numpy datetime64 arrays\n",
    "promise_min_dates = valid_orders['platform_delivery_promise_min_ts'].values.astype('datetime64[D]')\n",
    "promise_max_dates = valid_orders['platform_delivery_promise_max_ts'].values.astype('datetime64[D]')\n",
    "\n",
    "# Calculate the number of Sundays between order creation and promise dates\n",
    "order_creation_dates_valid = valid_orders['order_creation_ts'].values.astype('datetime64[D]')\n",
    "sundays_min = np.busday_count(order_creation_dates_valid, promise_min_dates, weekmask='1111110')\n",
    "sundays_max = np.busday_count(order_creation_dates_valid, promise_max_dates, weekmask='1111110')\n",
    "\n",
    "valid_orders['promise_time_min'] = valid_orders['platform_delivery_promise_min_ts'] - valid_orders['order_creation_ts']\n",
    "valid_orders['promise_time_min'] = valid_orders['promise_time_min'].dt.total_seconds() / 3600\n",
    "\n",
    "valid_orders['promise_time_max'] = valid_orders['platform_delivery_promise_max_ts'] - valid_orders['order_creation_ts']\n",
    "valid_orders['promise_time_max'] = valid_orders['promise_time_max'].dt.total_seconds() / 3600\n",
    "\n",
    "# Deduct 24 hours for each Sunday, up to a maximum of the promise time\n",
    "deduction_min = np.minimum(sundays_min, valid_orders['promise_time_min'] // 24) * 24\n",
    "deduction_max = np.minimum(sundays_max, valid_orders['promise_time_max'] // 24) * 24\n",
    "valid_orders.loc[sundays_min > 0, 'promise_time_min'] -= deduction_min[sundays_min > 0]\n",
    "valid_orders.loc[sundays_max > 0, 'promise_time_max'] -= deduction_max[sundays_max > 0]\n",
    "\n",
    "# Calculate the average promise time in days and round up to the nearest integer\n",
    "valid_orders['promise_time_avg'] = (valid_orders['promise_time_min'] + valid_orders['promise_time_max']) / 2\n",
    "valid_orders['promise_time_avg'] = np.ceil(valid_orders['promise_time_avg'])\n"
   ]
  },
  {
   "cell_type": "code",
   "execution_count": 22,
   "id": "a6b41e5d",
   "metadata": {},
   "outputs": [
    {
     "name": "stdout",
     "output_type": "stream",
     "text": [
      "22.0    45061\n",
      "21.0    43812\n",
      "23.0    43492\n",
      "24.0    38552\n",
      "20.0    37903\n",
      "19.0    32707\n",
      "15.0    30474\n",
      "16.0    30185\n",
      "17.0    29380\n",
      "14.0    27908\n",
      "18.0    27421\n",
      "13.0    25478\n",
      "25.0    23675\n",
      "26.0    21748\n",
      "27.0    20158\n",
      "28.0    19070\n",
      "29.0    18729\n",
      "30.0    17998\n",
      "31.0    13119\n",
      "32.0    11795\n",
      "12.0    11469\n",
      "33.0    10659\n",
      "11.0    10318\n",
      "10.0    10016\n",
      "7.0      9735\n",
      "9.0      9569\n",
      "8.0      9359\n",
      "34.0     9319\n",
      "35.0     9091\n",
      "36.0     7737\n",
      "1.0      4943\n",
      "3.0      4668\n",
      "4.0      4385\n",
      "2.0      4069\n",
      "42.0     3949\n",
      "5.0      3712\n",
      "6.0      3494\n",
      "41.0     2354\n",
      "37.0     1877\n",
      "40.0     1386\n",
      "39.0     1022\n",
      "38.0      958\n",
      "43.0       66\n",
      "44.0       48\n",
      "45.0       42\n",
      "47.0       25\n",
      "46.0       21\n",
      "54.0       15\n",
      "48.0       15\n",
      "49.0        8\n",
      "53.0        6\n",
      "51.0        5\n",
      "60.0        1\n",
      "52.0        1\n",
      "59.0        1\n",
      "Name: promise_time_avg, dtype: int64\n"
     ]
    }
   ],
   "source": [
    "distinct_pt = valid_orders['promise_time_avg'].value_counts()\n",
    "print(distinct_pt)"
   ]
  },
  {
   "cell_type": "code",
   "execution_count": 23,
   "id": "fe14e774",
   "metadata": {},
   "outputs": [
    {
     "data": {
      "image/png": "[encoded data removed]",
      "text/plain": [
       "<Figure size 800x600 with 1 Axes>"
      ]
     },
     "metadata": {},
     "output_type": "display_data"
    }
   ],
   "source": [
    "# Plot histogram of delivery time in hours\n",
    "fig, ax = plt.subplots(figsize=(8, 6))\n",
    "\n",
    "# Plot the histogram\n",
    "ax.hist(delivered_analysis['delivery_time'], bins=40)\n",
    "\n",
    "# Add labels and title\n",
    "ax.set_xlabel('Delivery Time (hours)')\n",
    "ax.set_ylabel('Frequency')\n",
    "ax.set_title('Histogram of Delivery Time')\n",
    "\n",
    "# Show the plot\n",
    "plt.show()"
   ]
  },
  {
   "cell_type": "code",
   "execution_count": 24,
   "id": "f9524634",
   "metadata": {},
   "outputs": [],
   "source": [
    " # Calculate the delivery time in days\n",
    "delivered_analysis['delivery_time_d'] = (delivered_analysis['lvl1_delivered_ts'] - delivered_analysis['order_creation_ts']).astype('timedelta64[D]')\n",
    "\n",
    "# # Convert order_creation_ts and lvl1_delivered_ts columns to numpy datetime64 arrays\n",
    "order_creation_dates = delivered_analysis['order_creation_ts'].values.astype('datetime64[D]')\n",
    "lvl1_delivered_dates = delivered_analysis['lvl1_delivered_ts'].values.astype('datetime64[D]')\n",
    "\n",
    "# # Calculate the number of Sundays between order creation and lvl1_delivered dates\n",
    "sundays = np.busday_count(order_creation_dates, lvl1_delivered_dates, weekmask='1111110')\n",
    "\n",
    "# # Deduct 1 day for each Sunday, up to a maximum of the delivery time\n",
    "deduction = np.minimum(sundays, delivered_analysis['delivery_time_d']) * 1\n",
    "delivered_analysis.loc[sundays > 0, 'delivery_time_d'] -= deduction[sundays > 0]"
   ]
  },
  {
   "cell_type": "code",
   "execution_count": 25,
   "id": "d1fa83ac",
   "metadata": {},
   "outputs": [
    {
     "name": "stdout",
     "output_type": "stream",
     "text": [
      "0.0    524358\n",
      "1.0    168650\n",
      "Name: delivery_time_d, dtype: int64\n"
     ]
    }
   ],
   "source": [
    "distinct_dtd = delivered_analysis['delivery_time_d'].value_counts()\n",
    "print(distinct_dtd)"
   ]
  },
  {
   "cell_type": "code",
   "execution_count": 26,
   "id": "22260ebd",
   "metadata": {},
   "outputs": [
    {
     "name": "stdout",
     "output_type": "stream",
     "text": [
      "693008\n"
     ]
    }
   ],
   "source": [
    "num_rows = len(delivered_analysis)\n",
    "print(num_rows)"
   ]
  },
  {
   "cell_type": "code",
   "execution_count": 27,
   "id": "fdd27aea",
   "metadata": {},
   "outputs": [],
   "source": [
    "# Create a binary variable for delivery promise matching\n",
    "# delivered_analysis['delivery_promise_matching'] = (delivered_analysis['delivery_time_d'] == delivered_analysis['promise_time_avg']).astype(int)"
   ]
  },
  {
   "cell_type": "code",
   "execution_count": 28,
   "id": "715e9d7d",
   "metadata": {},
   "outputs": [],
   "source": [
    "delivered_analysis.dropna(subset=['lvl1_shipped_ts'], inplace=True)\n",
    "\n",
    "# Calculate the delivery time in days\n",
    "delivered_analysis['ship_time_d'] = (delivered_analysis['lvl1_shipped_ts'] - delivered_analysis['order_creation_ts']).astype('timedelta64[D]')\n",
    "\n",
    "# Convert order_creation_ts and lvl1_shipped_ts columns to numpy datetime64 arrays\n",
    "order_creation_dates = delivered_analysis['order_creation_ts'].values.astype('datetime64[D]')\n",
    "lvl1_shipped_dates = delivered_analysis['lvl1_shipped_ts'].values.astype('datetime64[D]')\n",
    "\n",
    "# Calculate the number of Sundays between order creation and lvl1_shipped dates\n",
    "sundays = np.busday_count(order_creation_dates, lvl1_shipped_dates, weekmask='1111110')\n",
    "\n",
    "# Deduct 1 day for each Sunday, up to a maximum of the delivery time\n",
    "deduction = np.minimum(sundays, delivered_analysis['ship_time_d']) * 1\n",
    "delivered_analysis.loc[sundays > 0, 'ship_time_d'] -= deduction[sundays > 0]\n"
   ]
  },
  {
   "cell_type": "code",
   "execution_count": 29,
   "id": "e1d2689a",
   "metadata": {},
   "outputs": [
    {
     "name": "stdout",
     "output_type": "stream",
     "text": [
      "0.0    440813\n",
      "1.0    251476\n",
      "2.0       709\n",
      "Name: ship_time_d, dtype: int64\n"
     ]
    }
   ],
   "source": [
    "distinct_std = delivered_analysis['ship_time_d'].value_counts()\n",
    "print(distinct_std)"
   ]
  },
  {
   "cell_type": "code",
   "execution_count": 30,
   "id": "4db3f256",
   "metadata": {},
   "outputs": [],
   "source": [
    "# Create Delivery - hour of the day feature\n",
    "delivered_analysis['delivery_hour'] = delivered_analysis['lvl1_delivered_ts'].dt.hour\n",
    "\n",
    "# Create Delivery - day of the week feature\n",
    "delivered_analysis['delivery_dayofweek'] = delivered_analysis['lvl1_delivered_ts'].dt.dayofweek\n",
    "\n",
    "# Create Order - hour of the day feature\n",
    "delivered_analysis['order_hour'] = delivered_analysis['order_creation_ts'].dt.hour\n",
    "\n",
    "# Create Order - day of the week feature\n",
    "delivered_analysis['order_dayofweek'] = delivered_analysis['order_creation_ts'].dt.dayofweek\n"
   ]
  },
  {
   "cell_type": "code",
   "execution_count": 31,
   "id": "f02c9bd9",
   "metadata": {},
   "outputs": [
    {
     "data": {
      "text/html": [
       "<div>\n",
       "<style scoped>\n",
       "    .dataframe tbody tr th:only-of-type {\n",
       "        vertical-align: middle;\n",
       "    }\n",
       "\n",
       "    .dataframe tbody tr th {\n",
       "        vertical-align: top;\n",
       "    }\n",
       "\n",
       "    .dataframe thead th {\n",
       "        text-align: right;\n",
       "    }\n",
       "</style>\n",
       "<table border=\"1\" class=\"dataframe\">\n",
       "  <thead>\n",
       "    <tr style=\"text-align: right;\">\n",
       "      <th></th>\n",
       "      <th>tracking_number</th>\n",
       "      <th>seller_rating</th>\n",
       "      <th>shipping_type</th>\n",
       "      <th>origin_type</th>\n",
       "      <th>package_weight</th>\n",
       "      <th>lvl4_origin_address_name</th>\n",
       "      <th>is_bulky</th>\n",
       "      <th>payment_type_</th>\n",
       "      <th>fm_delivery_type</th>\n",
       "      <th>order_creation_ts</th>\n",
       "      <th>...</th>\n",
       "      <th>lvl1_delivery_failed_ts</th>\n",
       "      <th>platform_delivery_promise_min_ts</th>\n",
       "      <th>platform_delivery_promise_max_ts</th>\n",
       "      <th>delivery_time</th>\n",
       "      <th>delivery_time_d</th>\n",
       "      <th>ship_time_d</th>\n",
       "      <th>delivery_hour</th>\n",
       "      <th>delivery_dayofweek</th>\n",
       "      <th>order_hour</th>\n",
       "      <th>order_dayofweek</th>\n",
       "    </tr>\n",
       "  </thead>\n",
       "  <tbody>\n",
       "    <tr>\n",
       "      <th>1</th>\n",
       "      <td>30310567</td>\n",
       "      <td>90.0</td>\n",
       "      <td>Marketplace</td>\n",
       "      <td>Domestic</td>\n",
       "      <td>1.200</td>\n",
       "      <td>Homagama</td>\n",
       "      <td>0</td>\n",
       "      <td>COD</td>\n",
       "      <td>Drop-off</td>\n",
       "      <td>2022-09-01 11:10:23</td>\n",
       "      <td>...</td>\n",
       "      <td>NaT</td>\n",
       "      <td>2022-09-04 11:10:23</td>\n",
       "      <td>2022-09-06 11:10:23</td>\n",
       "      <td>25.0</td>\n",
       "      <td>1.0</td>\n",
       "      <td>0.0</td>\n",
       "      <td>12</td>\n",
       "      <td>6</td>\n",
       "      <td>11</td>\n",
       "      <td>3</td>\n",
       "    </tr>\n",
       "    <tr>\n",
       "      <th>2</th>\n",
       "      <td>30310579</td>\n",
       "      <td>88.0</td>\n",
       "      <td>Marketplace</td>\n",
       "      <td>Domestic</td>\n",
       "      <td>4.000</td>\n",
       "      <td>Colombo 10 - Maradana</td>\n",
       "      <td>0</td>\n",
       "      <td>Prepaid</td>\n",
       "      <td>Pickup</td>\n",
       "      <td>2022-09-01 22:20:37</td>\n",
       "      <td>...</td>\n",
       "      <td>NaT</td>\n",
       "      <td>2022-09-05 06:00:00</td>\n",
       "      <td>2022-09-06 18:00:00</td>\n",
       "      <td>15.0</td>\n",
       "      <td>0.0</td>\n",
       "      <td>0.0</td>\n",
       "      <td>14</td>\n",
       "      <td>0</td>\n",
       "      <td>22</td>\n",
       "      <td>3</td>\n",
       "    </tr>\n",
       "    <tr>\n",
       "      <th>4</th>\n",
       "      <td>30310656</td>\n",
       "      <td>86.0</td>\n",
       "      <td>Marketplace</td>\n",
       "      <td>Domestic</td>\n",
       "      <td>1.000</td>\n",
       "      <td>Colombo 11 - Pettah</td>\n",
       "      <td>0</td>\n",
       "      <td>COD</td>\n",
       "      <td>Drop-off</td>\n",
       "      <td>2022-09-01 00:05:12</td>\n",
       "      <td>...</td>\n",
       "      <td>NaT</td>\n",
       "      <td>2022-09-04 06:00:00</td>\n",
       "      <td>2022-09-05 18:00:00</td>\n",
       "      <td>38.0</td>\n",
       "      <td>1.0</td>\n",
       "      <td>0.0</td>\n",
       "      <td>14</td>\n",
       "      <td>1</td>\n",
       "      <td>0</td>\n",
       "      <td>3</td>\n",
       "    </tr>\n",
       "    <tr>\n",
       "      <th>5</th>\n",
       "      <td>30310658</td>\n",
       "      <td>94.0</td>\n",
       "      <td>Warehouse</td>\n",
       "      <td>Domestic</td>\n",
       "      <td>1.295</td>\n",
       "      <td>Kelaniya</td>\n",
       "      <td>0</td>\n",
       "      <td>Prepaid</td>\n",
       "      <td>Pickup</td>\n",
       "      <td>2022-09-01 12:55:51</td>\n",
       "      <td>...</td>\n",
       "      <td>NaT</td>\n",
       "      <td>2022-09-03 18:00:00</td>\n",
       "      <td>2022-09-05 18:00:00</td>\n",
       "      <td>23.0</td>\n",
       "      <td>0.0</td>\n",
       "      <td>0.0</td>\n",
       "      <td>12</td>\n",
       "      <td>1</td>\n",
       "      <td>12</td>\n",
       "      <td>3</td>\n",
       "    </tr>\n",
       "    <tr>\n",
       "      <th>6</th>\n",
       "      <td>30310662</td>\n",
       "      <td>87.0</td>\n",
       "      <td>Warehouse</td>\n",
       "      <td>Domestic</td>\n",
       "      <td>0.065</td>\n",
       "      <td>Kelaniya</td>\n",
       "      <td>0</td>\n",
       "      <td>COD</td>\n",
       "      <td>Pickup</td>\n",
       "      <td>2022-09-01 14:05:59</td>\n",
       "      <td>...</td>\n",
       "      <td>NaT</td>\n",
       "      <td>2022-09-03 18:00:00</td>\n",
       "      <td>2022-09-05 18:00:00</td>\n",
       "      <td>22.0</td>\n",
       "      <td>0.0</td>\n",
       "      <td>0.0</td>\n",
       "      <td>12</td>\n",
       "      <td>4</td>\n",
       "      <td>14</td>\n",
       "      <td>3</td>\n",
       "    </tr>\n",
       "  </tbody>\n",
       "</table>\n",
       "<p>5 rows × 29 columns</p>\n",
       "</div>"
      ],
      "text/plain": [
       "  tracking_number  seller_rating shipping_type origin_type  package_weight  \\\n",
       "1        30310567           90.0   Marketplace    Domestic           1.200   \n",
       "2        30310579           88.0   Marketplace    Domestic           4.000   \n",
       "4        30310656           86.0   Marketplace    Domestic           1.000   \n",
       "5        30310658           94.0     Warehouse    Domestic           1.295   \n",
       "6        30310662           87.0     Warehouse    Domestic           0.065   \n",
       "\n",
       "  lvl4_origin_address_name  is_bulky payment_type_ fm_delivery_type  \\\n",
       "1                 Homagama         0           COD         Drop-off   \n",
       "2    Colombo 10 - Maradana         0       Prepaid           Pickup   \n",
       "4      Colombo 11 - Pettah         0           COD         Drop-off   \n",
       "5                 Kelaniya         0       Prepaid           Pickup   \n",
       "6                 Kelaniya         0           COD           Pickup   \n",
       "\n",
       "    order_creation_ts  ... lvl1_delivery_failed_ts  \\\n",
       "1 2022-09-01 11:10:23  ...                     NaT   \n",
       "2 2022-09-01 22:20:37  ...                     NaT   \n",
       "4 2022-09-01 00:05:12  ...                     NaT   \n",
       "5 2022-09-01 12:55:51  ...                     NaT   \n",
       "6 2022-09-01 14:05:59  ...                     NaT   \n",
       "\n",
       "   platform_delivery_promise_min_ts platform_delivery_promise_max_ts  \\\n",
       "1               2022-09-04 11:10:23              2022-09-06 11:10:23   \n",
       "2               2022-09-05 06:00:00              2022-09-06 18:00:00   \n",
       "4               2022-09-04 06:00:00              2022-09-05 18:00:00   \n",
       "5               2022-09-03 18:00:00              2022-09-05 18:00:00   \n",
       "6               2022-09-03 18:00:00              2022-09-05 18:00:00   \n",
       "\n",
       "  delivery_time delivery_time_d ship_time_d delivery_hour delivery_dayofweek  \\\n",
       "1          25.0             1.0         0.0            12                  6   \n",
       "2          15.0             0.0         0.0            14                  0   \n",
       "4          38.0             1.0         0.0            14                  1   \n",
       "5          23.0             0.0         0.0            12                  1   \n",
       "6          22.0             0.0         0.0            12                  4   \n",
       "\n",
       "  order_hour order_dayofweek  \n",
       "1         11               3  \n",
       "2         22               3  \n",
       "4          0               3  \n",
       "5         12               3  \n",
       "6         14               3  \n",
       "\n",
       "[5 rows x 29 columns]"
      ]
     },
     "execution_count": 31,
     "metadata": {},
     "output_type": "execute_result"
    }
   ],
   "source": [
    "delivered_analysis.head()"
   ]
  },
  {
   "cell_type": "code",
   "execution_count": 32,
   "id": "6c0ab508",
   "metadata": {},
   "outputs": [],
   "source": [
    "# Create a consolidated feature for shipping and delivery type\n",
    "conditions = [\n",
    "    (delivered_analysis['shipping_type'] == 'Marketplace') & (delivered_analysis['fm_delivery_type'] == 'Pickup'),\n",
    "    (delivered_analysis['shipping_type'] == 'Marketplace') & (delivered_analysis['fm_delivery_type'] == 'Drop-off'),\n",
    "    (delivered_analysis['shipping_type'] == 'Warehouse') & (delivered_analysis['fm_delivery_type'] == 'Pickup')\n",
    "]\n",
    "choices = ['Vendor Pickup', 'Vendor Dropoff', 'Warehouse']\n",
    "delivered_analysis['fulfillment_type'] = np.select(conditions, choices, default='Other')\n"
   ]
  },
  {
   "cell_type": "code",
   "execution_count": 33,
   "id": "2375b65f",
   "metadata": {},
   "outputs": [
    {
     "name": "stdout",
     "output_type": "stream",
     "text": [
      "Vendor Dropoff    450385\n",
      "Vendor Pickup     167313\n",
      "Warehouse          75300\n",
      "Name: fulfillment_type, dtype: int64\n"
     ]
    }
   ],
   "source": [
    "ff_type = delivered_analysis['fulfillment_type'].value_counts()\n",
    "print(ff_type)"
   ]
  },
  {
   "cell_type": "code",
   "execution_count": 34,
   "id": "14c93502",
   "metadata": {},
   "outputs": [
    {
     "name": "stdout",
     "output_type": "stream",
     "text": [
      "different_ori_des    604497\n",
      "same_ori_des          88501\n",
      "Name: ori_des, dtype: int64\n"
     ]
    }
   ],
   "source": [
    "# Create a new feature indicating whether the destination and origin addresses are the same\n",
    "delivered_analysis['ori_des'] = np.where(delivered_analysis['lvl3_destination_address_name'] == delivered_analysis['lvl3_origin_address_name'], 'same_ori_des', 'different_ori_des')\n",
    "ori_des = delivered_analysis['ori_des'].value_counts()\n",
    "print(ori_des)"
   ]
  },
  {
   "cell_type": "code",
   "execution_count": 35,
   "id": "d578b3db",
   "metadata": {},
   "outputs": [],
   "source": [
    "predictor_variables = delivered_analysis[['delivery_time','ori_des','fulfillment_type','delivery_hour','delivery_dayofweek','order_hour','order_dayofweek','seller_rating',\n",
    "                                         'item_cnt','lvl3_origin_address_name','lmsp','lvl3_destination_address_name','package_weight','payment_type_']]\n",
    "\n",
    "target_variable = delivered_analysis[['delivery_time']]"
   ]
  },
  {
   "cell_type": "code",
   "execution_count": 36,
   "id": "dbb072dc",
   "metadata": {},
   "outputs": [],
   "source": [
    "#quantile regression forest"
   ]
  },
  {
   "cell_type": "code",
   "execution_count": 37,
   "id": "b794157e",
   "metadata": {},
   "outputs": [],
   "source": [
    "# Import the necessary libraries\n",
    "import pandas as pd\n",
    "from sklearn.model_selection import train_test_split\n",
    "from sklearn.tree import DecisionTreeRegressor\n",
    "from sklearn.metrics import mean_squared_error, r2_score\n",
    "from sklearn.preprocessing import OneHotEncoder\n",
    "\n",
    "X = delivered_analysis[['ori_des', 'fulfillment_type', 'delivery_hour', 'delivery_dayofweek', 'order_hour', 'order_dayofweek', 'seller_rating', 'item_cnt', 'lvl3_origin_address_name', 'lmsp', 'lvl3_destination_address_name', 'package_weight', 'payment_type_']]\n",
    "y = delivered_analysis[['delivery_time']]\n",
    "\n",
    "X_train, X_test, y_train, y_test = train_test_split(X, y, test_size=0.2, random_state=42)\n",
    "\n",
    "# Define the categorical columns\n",
    "cat_cols = ['ori_des', 'delivery_hour', 'delivery_dayofweek', 'order_hour', 'order_dayofweek', 'lmsp', 'fulfillment_type', 'lvl3_destination_address_name', 'lvl3_origin_address_name', 'payment_type_']\n"
   ]
  },
  {
   "cell_type": "code",
   "execution_count": 38,
   "id": "630c5ffb",
   "metadata": {},
   "outputs": [],
   "source": [
    "# One-hot encode the categorical columns\n",
    "from scipy.sparse import hstack\n",
    "from sklearn.preprocessing import OneHotEncoder\n",
    "\n",
    "enc = OneHotEncoder(handle_unknown='ignore')\n",
    "enc.fit(X_train[cat_cols])\n",
    "\n",
    "X_train_enc = enc.transform(X_train[cat_cols])\n",
    "X_test_enc = enc.transform(X_test[cat_cols])\n",
    "\n",
    "X_train = hstack([X_train.drop(cat_cols, axis=1), X_train_enc])\n",
    "X_test = hstack([X_test.drop(cat_cols, axis=1), X_test_enc])"
   ]
  },
  {
   "cell_type": "code",
   "execution_count": 43,
   "id": "382e8122",
   "metadata": {},
   "outputs": [
    {
     "name": "stdout",
     "output_type": "stream",
     "text": [
      "Pinball loss (0.05): 2.14\n",
      "Pinball loss (0.25): 1.19\n",
      "Pinball loss (0.50): 0.01\n",
      "Pinball loss (0.75): 1.19\n",
      "Pinball loss (0.95): 2.14\n",
      "Average pinball loss: 1.34\n"
     ]
    }
   ],
   "source": [
    "from scipy.sparse import csr_matrix\n",
    "from sklearn.ensemble import RandomForestRegressor\n",
    "from sklearn.preprocessing import StandardScaler\n",
    "import numpy as np\n",
    "\n",
    "# Convert X_train to a sparse matrix with compressed sparse row (CSR) format\n",
    "X_train_sparse = csr_matrix(X_train)\n",
    "\n",
    "# Create a StandardScaler object\n",
    "scaler = StandardScaler(with_mean=False)\n",
    "\n",
    "# Fit the scaler to the training data and transform it\n",
    "X_train_scaled = scaler.fit_transform(X_train_sparse)\n",
    "\n",
    "# Transform the test data using the fitted scaler\n",
    "X_test_scaled = scaler.transform(X_test)\n",
    "y_test_np = np.array(y_test)\n",
    "\n",
    "# Create the quantile regression forest model with regularization\n",
    "quantiles = [0.05, 0.25, 0.5, 0.75, 0.95]\n",
    "forest = RandomForestRegressor(n_estimators=100, random_state=42, max_depth=5, min_samples_leaf=10)\n",
    "\n",
    "# Train the model on the scaled training data\n",
    "forest.fit(X_train_scaled, y_train)\n",
    "\n",
    "# Predict the target variable for the test data\n",
    "y_pred = forest.predict(X_test_scaled)\n",
    "\n",
    "# Compute the pinball loss for each observation\n",
    "pinball_losses = np.zeros((X_test_scaled.shape[0], len(quantiles)))\n",
    "for i, q in enumerate(quantiles):\n",
    "    for j in range(X_test_scaled.shape[0]):\n",
    "        pinball_losses[j, i] = np.maximum(q * (y_test_np[j] - y_pred[j]), (q - 1) * (y_pred[j] - y_test_np[j]))\n",
    "\n",
    "# Compute the average pinball loss over all observations\n",
    "avg_pinball_loss = np.mean(np.mean(pinball_losses, axis=1))\n",
    "\n",
    "# Print the results\n",
    "for i, q in enumerate(quantiles):\n",
    "    pinball_loss = np.mean(pinball_losses[:, i])\n",
    "    print(f\"Pinball loss ({q:.2f}): {pinball_loss:.2f}\")\n",
    "print(f\"Average pinball loss: {avg_pinball_loss:.2f}\")\n"
   ]
  },
  {
   "cell_type": "code",
   "execution_count": 44,
   "id": "702ecc6d",
   "metadata": {},
   "outputs": [
    {
     "name": "stdout",
     "output_type": "stream",
     "text": [
      "CRPS: 0.17\n"
     ]
    }
   ],
   "source": [
    "from scipy.sparse import csr_matrix\n",
    "from sklearn.ensemble import RandomForestRegressor\n",
    "from sklearn.preprocessing import StandardScaler\n",
    "import numpy as np\n",
    "from scipy.stats import norm\n",
    "\n",
    "# Convert X_train to a sparse matrix with compressed sparse row (CSR) format\n",
    "X_train_sparse = csr_matrix(X_train)\n",
    "\n",
    "# Create a StandardScaler object\n",
    "scaler = StandardScaler(with_mean=False)\n",
    "\n",
    "# Fit the scaler to the training data and transform it\n",
    "X_train_scaled = scaler.fit_transform(X_train_sparse)\n",
    "\n",
    "# Transform the test data using the fitted scaler\n",
    "X_test_scaled = scaler.transform(X_test)\n",
    "y_test_np = np.array(y_test)\n",
    "\n",
    "# Create the quantile regression forest model with regularization\n",
    "quantiles = [0.05, 0.25, 0.5, 0.75, 0.95]\n",
    "forest = RandomForestRegressor(n_estimators=100, random_state=42, max_depth=5, min_samples_leaf=10)\n",
    "\n",
    "# Train the model on the scaled training data\n",
    "forest.fit(X_train_scaled, y_train)\n",
    "\n",
    "# Predict the target variable for the test data\n",
    "y_pred = forest.predict(X_test_scaled)\n",
    "\n",
    "# Compute the CRPS for the test data\n",
    "crps = 0\n",
    "for j in range(X_test_scaled.shape[0]):\n",
    "    cdf_vals = norm.cdf(y_pred[j] - y_test_np[j], scale=np.std(y_train))\n",
    "    crps += np.mean((quantiles - cdf_vals) ** 2)\n",
    "crps /= len(y_test)\n",
    "\n",
    "# Print the results\n",
    "print(f\"CRPS: {crps:.2f}\")\n",
    "\n"
   ]
  },
  {
   "cell_type": "code",
   "execution_count": null,
   "id": "dd081b73",
   "metadata": {},
   "outputs": [],
   "source": [
    "from sklearn.metrics import mean_squared_error, r2_score, log_loss, brier_score_loss\n",
    "\n",
    "# Compute the logistic loss\n",
    "log_loss_val = log_loss(y_test, y_pred)\n",
    "print(f\"Logistic loss: {log_loss_val:.2f}\")\n",
    "\n",
    "# Compute the Brier score\n",
    "brier_score = brier_score_loss(y_test, y_pred)\n",
    "print(f\"Brier score: {brier_score:.2f}\")"
   ]
  },
  {
   "cell_type": "code",
   "execution_count": 41,
   "id": "3a629547",
   "metadata": {},
   "outputs": [
    {
     "name": "stdout",
     "output_type": "stream",
     "text": [
      "Defaulting to user installation because normal site-packages is not writeable\n",
      "Collecting scikit-learn-extra\n",
      "  Downloading scikit_learn_extra-0.3.0-cp39-cp39-win_amd64.whl (346 kB)\n",
      "     ------------------------------------ 346.2/346.2 kB 933.2 kB/s eta 0:00:00\n",
      "Requirement already satisfied: scikit-learn>=0.23.0 in c:\\users\\supun\\appdata\\roaming\\python\\python39\\site-packages (from scikit-learn-extra) (1.2.2)\n",
      "Requirement already satisfied: numpy>=1.13.3 in c:\\users\\supun\\appdata\\roaming\\python\\python39\\site-packages (from scikit-learn-extra) (1.24.2)\n",
      "Requirement already satisfied: scipy>=0.19.1 in c:\\users\\supun\\appdata\\roaming\\python\\python39\\site-packages (from scikit-learn-extra) (1.10.1)\n",
      "Requirement already satisfied: threadpoolctl>=2.0.0 in c:\\users\\supun\\appdata\\roaming\\python\\python39\\site-packages (from scikit-learn>=0.23.0->scikit-learn-extra) (3.1.0)\n",
      "Requirement already satisfied: joblib>=1.1.1 in c:\\users\\supun\\appdata\\roaming\\python\\python39\\site-packages (from scikit-learn>=0.23.0->scikit-learn-extra) (1.2.0)\n",
      "Installing collected packages: scikit-learn-extra\n",
      "Successfully installed scikit-learn-extra-0.3.0\n",
      "Note: you may need to restart the kernel to use updated packages.\n"
     ]
    }
   ],
   "source": [
    "pip install scikit-learn-extra"
   ]
  },
  {
   "cell_type": "code",
   "execution_count": 87,
   "id": "0aee4d85",
   "metadata": {},
   "outputs": [
    {
     "name": "stdout",
     "output_type": "stream",
     "text": [
      "Feature Importance Scores (Descending Order):\n",
      "delivery_hour: 0.0233\n",
      "ori_des: 0.0216\n",
      "order_dayofweek: 0.0109\n",
      "fulfillment_type: 0.0033\n",
      "seller_rating: 0.0018\n",
      "delivery_dayofweek: 0.0011\n",
      "order_hour: 0.0010\n",
      "payment_type_: 0.0005\n",
      "package_weight: 0.0003\n",
      "lvl3_destination_address_name: 0.0003\n",
      "item_cnt: 0.0002\n",
      "lmsp: 0.0000\n",
      "lvl3_origin_address_name: 0.0000\n"
     ]
    },
    {
     "data": {
      "image/png": "[encoded data removed]",
      "text/plain": [
       "<Figure size 800x600 with 1 Axes>"
      ]
     },
     "metadata": {},
     "output_type": "display_data"
    }
   ],
   "source": [
    "import matplotlib.pyplot as plt\n",
    "\n",
    "# Get the feature importances from the trained model\n",
    "importances = forest.feature_importances_\n",
    "\n",
    "# Create a dictionary of feature names and their importances\n",
    "feature_importances = dict(zip(X.columns, importances))\n",
    "\n",
    "# Sort the dictionary by importance score in descending order\n",
    "sorted_feature_importances = dict(sorted(feature_importances.items(), key=lambda item: item[1], reverse=True))\n",
    "\n",
    "# Print the feature importance scores in descending order\n",
    "print(\"Feature Importance Scores (Descending Order):\")\n",
    "for feature, importance in sorted_feature_importances.items():\n",
    "    print(f\"{feature}: {importance:.4f}\")\n",
    "\n",
    "# Plot the top 10 critical predictors in descending order\n",
    "top_features = list(sorted_feature_importances.keys())[:10]\n",
    "top_importances = list(sorted_feature_importances.values())[:10]\n",
    "\n",
    "plt.figure(figsize=(8, 6))\n",
    "plt.barh(range(len(top_features)), top_importances, align='center')\n",
    "plt.yticks(range(len(top_features)), top_features)\n",
    "plt.xlabel('Importance Score')\n",
    "plt.title('Top 10 Critical Predictors')\n",
    "plt.show()\n"
   ]
  },
  {
   "cell_type": "code",
   "execution_count": 88,
   "id": "7ca9c8c2",
   "metadata": {},
   "outputs": [
    {
     "data": {
      "image/png": "[encoded data removed]",
      "text/plain": [
       "<Figure size 640x480 with 1 Axes>"
      ]
     },
     "metadata": {},
     "output_type": "display_data"
    }
   ],
   "source": [
    "import matplotlib.pyplot as plt\n",
    "import seaborn as sns\n",
    "\n",
    "# Plot the histogram of actual observations\n",
    "sns.histplot(y_test_np, color='blue', label='Actual', kde=False, alpha=0.5)\n",
    "\n",
    "# Generate the predictive density from RF forecasts\n",
    "y_pred_density = forest.predict(X_test_scaled)\n",
    "\n",
    "# Plot the histogram of predictive density\n",
    "sns.histplot(y_pred_density, color='black', label='Predictive', kde=False, alpha=0.5)\n",
    "\n",
    "# Add legend and labels to the plot\n",
    "plt.legend()\n",
    "plt.xlabel('Target Variable')\n",
    "plt.ylabel('Frequency')\n",
    "plt.title('Histogram of Actual vs Predictive Density')\n",
    "\n",
    "# Show the plot\n",
    "plt.show()\n"
   ]
  },
  {
   "cell_type": "code",
   "execution_count": 90,
   "id": "0c0f4e44",
   "metadata": {},
   "outputs": [
    {
     "data": {
      "image/png": "[encoded data removed]",
      "text/plain": [
       "<Figure size 640x480 with 1 Axes>"
      ]
     },
     "metadata": {},
     "output_type": "display_data"
    }
   ],
   "source": [
    "import matplotlib.pyplot as plt\n",
    "import seaborn as sns\n",
    "\n",
    "# Plot the histogram of actual observations with normalized density\n",
    "sns.histplot(y_test_np, color='blue', label='Actual', kde=True, alpha=0.5, stat='density')\n",
    "\n",
    "# Generate the predictive density from RF forecasts\n",
    "y_pred_density = forest.predict(X_test_scaled)\n",
    "\n",
    "# Plot the predicted density as a line chart\n",
    "sns.kdeplot(y_pred_density, color='black', label='Predictive', linewidth=2)\n",
    "\n",
    "# Get the maximum density value from the predictive density\n",
    "max_density = max(sns.kdeplot(y_pred_density).get_lines()[0].get_ydata())\n",
    "\n",
    "# Set the y-axis limit to the maximum density value\n",
    "plt.ylim(0, max_density)\n",
    "\n",
    "# Add legend and labels to the plot\n",
    "plt.legend()\n",
    "plt.xlabel('Target Variable')\n",
    "plt.ylabel('Probability Density')\n",
    "plt.title('Histogram of Actual vs Predictive Density')\n",
    "\n",
    "# Show the plot\n",
    "plt.show()\n"
   ]
  },
  {
   "cell_type": "code",
   "execution_count": null,
   "id": "d78b680a",
   "metadata": {},
   "outputs": [],
   "source": []
  }
 ],
 "metadata": {
  "kernelspec": {
   "display_name": "Python 3 (ipykernel)",
   "language": "python",
   "name": "python3"
  },
  "language_info": {
   "codemirror_mode": {
    "name": "ipython",
    "version": 3
   },
   "file_extension": ".py",
   "mimetype": "text/x-python",
   "name": "python",
   "nbconvert_exporter": "python",
   "pygments_lexer": "ipython3",
   "version": "3.9.13"
  }
 },
 "nbformat": 4,
 "nbformat_minor": 5
}
