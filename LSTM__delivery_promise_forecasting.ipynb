{
 "cells": [
  {
   "cell_type": "code",
   "execution_count": 1,
   "id": "5d92abff",
   "metadata": {},
   "outputs": [],
   "source": [
    "import pandas as pd\n",
    "import numpy as np\n",
    "import matplotlib.pyplot as plt\n",
    "import seaborn as sns\n",
    "import plotly.express as px\n",
    "%matplotlib inline\n",
    "import warnings\n",
    "warnings.filterwarnings('ignore')"
   ]
  },
  {
   "cell_type": "code",
   "execution_count": 2,
   "id": "7e874805",
   "metadata": {},
   "outputs": [],
   "source": [
    "df = pd.read_csv(r\"C:\\Users\\Supun\\Desktop\\SUPUN_DATA_PERSONAL\\myfiles\\MScDA\\DS\\msc research/dump_ecommerce.csv\")"
   ]
  },
  {
   "cell_type": "code",
   "execution_count": 3,
   "id": "4158fe55",
   "metadata": {},
   "outputs": [
    {
     "name": "stdout",
     "output_type": "stream",
     "text": [
      "<class 'pandas.core.frame.DataFrame'>\n",
      "RangeIndex: 857573 entries, 0 to 857572\n",
      "Data columns (total 37 columns):\n",
      " #   Column                            Non-Null Count   Dtype  \n",
      "---  ------                            --------------   -----  \n",
      " 0   tracking_number                   857573 non-null  object \n",
      " 1   platform_order_number             857573 non-null  int64  \n",
      " 2   item_cnt                          857573 non-null  int64  \n",
      " 3   origin_type                       857573 non-null  object \n",
      " 4   seller_id                         857573 non-null  int64  \n",
      " 5   seller_rating                     857573 non-null  float64\n",
      " 6   seller_address                    857573 non-null  object \n",
      " 7   lvl2_origin_address_name          847596 non-null  object \n",
      " 8   lvl3_origin_address_name          847596 non-null  object \n",
      " 9   lvl4_origin_address_name          847596 non-null  object \n",
      " 10  fm_delivery_type                  857565 non-null  object \n",
      " 11  fm_3pl_name                       857565 non-null  object \n",
      " 12  fmsp                              847452 non-null  object \n",
      " 13  first_sc_node_name                831512 non-null  object \n",
      " 14  fm_node_name                      857310 non-null  object \n",
      " 15  shipping_type                     857573 non-null  object \n",
      " 16  lm_3pl_name                       856415 non-null  object \n",
      " 17  lmsp                              857573 non-null  object \n",
      " 18  customer_address                  857573 non-null  object \n",
      " 19  lvl2_destination_address_name     857573 non-null  object \n",
      " 20  lvl3_destination_address_name     857572 non-null  object \n",
      " 21  lvl4_destination_address_name     857561 non-null  object \n",
      " 22  package_weight                    857573 non-null  float64\n",
      " 23  package_height                    857573 non-null  float64\n",
      " 24  package_length                    857573 non-null  float64\n",
      " 25  package_width                     857573 non-null  float64\n",
      " 26  is_bulky                          857573 non-null  int64  \n",
      " 27  payment_type                      857573 non-null  object \n",
      " 28  payment_type_                     857573 non-null  object \n",
      " 29  order_creation_ts                 857573 non-null  object \n",
      " 30  lvl1_rts_ts                       857573 non-null  object \n",
      " 31  lvl1_tts_ts                       834703 non-null  object \n",
      " 32  lvl1_shipped_ts                   834735 non-null  object \n",
      " 33  lvl1_delivered_ts                 763747 non-null  object \n",
      " 34  lvl1_delivery_failed_ts           65832 non-null   object \n",
      " 35  platform_delivery_promise_min_ts  857573 non-null  object \n",
      " 36  platform_delivery_promise_max_ts  857573 non-null  object \n",
      "dtypes: float64(5), int64(4), object(28)\n",
      "memory usage: 242.1+ MB\n"
     ]
    }
   ],
   "source": [
    "df.info()"
   ]
  },
  {
   "cell_type": "code",
   "execution_count": 4,
   "id": "ec389292",
   "metadata": {},
   "outputs": [],
   "source": [
    "# change date columns from object to date\n",
    "df[['order_creation_ts','lvl1_rts_ts','lvl1_tts_ts','lvl1_shipped_ts','lvl1_delivered_ts','lvl1_delivery_failed_ts','platform_delivery_promise_min_ts','platform_delivery_promise_max_ts']]=df[['order_creation_ts','lvl1_rts_ts','lvl1_tts_ts','lvl1_shipped_ts','lvl1_delivered_ts','lvl1_delivery_failed_ts','platform_delivery_promise_min_ts','platform_delivery_promise_max_ts']].apply(pd.to_datetime) "
   ]
  },
  {
   "cell_type": "code",
   "execution_count": 5,
   "id": "896a5ff9",
   "metadata": {},
   "outputs": [
    {
     "name": "stdout",
     "output_type": "stream",
     "text": [
      "<class 'pandas.core.frame.DataFrame'>\n",
      "RangeIndex: 857573 entries, 0 to 857572\n",
      "Data columns (total 37 columns):\n",
      " #   Column                            Non-Null Count   Dtype         \n",
      "---  ------                            --------------   -----         \n",
      " 0   tracking_number                   857573 non-null  object        \n",
      " 1   platform_order_number             857573 non-null  int64         \n",
      " 2   item_cnt                          857573 non-null  int64         \n",
      " 3   origin_type                       857573 non-null  object        \n",
      " 4   seller_id                         857573 non-null  int64         \n",
      " 5   seller_rating                     857573 non-null  float64       \n",
      " 6   seller_address                    857573 non-null  object        \n",
      " 7   lvl2_origin_address_name          847596 non-null  object        \n",
      " 8   lvl3_origin_address_name          847596 non-null  object        \n",
      " 9   lvl4_origin_address_name          847596 non-null  object        \n",
      " 10  fm_delivery_type                  857565 non-null  object        \n",
      " 11  fm_3pl_name                       857565 non-null  object        \n",
      " 12  fmsp                              847452 non-null  object        \n",
      " 13  first_sc_node_name                831512 non-null  object        \n",
      " 14  fm_node_name                      857310 non-null  object        \n",
      " 15  shipping_type                     857573 non-null  object        \n",
      " 16  lm_3pl_name                       856415 non-null  object        \n",
      " 17  lmsp                              857573 non-null  object        \n",
      " 18  customer_address                  857573 non-null  object        \n",
      " 19  lvl2_destination_address_name     857573 non-null  object        \n",
      " 20  lvl3_destination_address_name     857572 non-null  object        \n",
      " 21  lvl4_destination_address_name     857561 non-null  object        \n",
      " 22  package_weight                    857573 non-null  float64       \n",
      " 23  package_height                    857573 non-null  float64       \n",
      " 24  package_length                    857573 non-null  float64       \n",
      " 25  package_width                     857573 non-null  float64       \n",
      " 26  is_bulky                          857573 non-null  int64         \n",
      " 27  payment_type                      857573 non-null  object        \n",
      " 28  payment_type_                     857573 non-null  object        \n",
      " 29  order_creation_ts                 857573 non-null  datetime64[ns]\n",
      " 30  lvl1_rts_ts                       857573 non-null  datetime64[ns]\n",
      " 31  lvl1_tts_ts                       834703 non-null  datetime64[ns]\n",
      " 32  lvl1_shipped_ts                   834735 non-null  datetime64[ns]\n",
      " 33  lvl1_delivered_ts                 763747 non-null  datetime64[ns]\n",
      " 34  lvl1_delivery_failed_ts           65832 non-null   datetime64[ns]\n",
      " 35  platform_delivery_promise_min_ts  857573 non-null  datetime64[ns]\n",
      " 36  platform_delivery_promise_max_ts  857573 non-null  datetime64[ns]\n",
      "dtypes: datetime64[ns](8), float64(5), int64(4), object(20)\n",
      "memory usage: 242.1+ MB\n"
     ]
    }
   ],
   "source": [
    "df.info()"
   ]
  },
  {
   "cell_type": "code",
   "execution_count": 6,
   "id": "5e5c9e82",
   "metadata": {},
   "outputs": [],
   "source": [
    "delivery_analysis = df[['tracking_number','seller_rating','shipping_type','origin_type','package_weight', 'lvl4_origin_address_name','is_bulky', 'payment_type_',\n",
    "       'fm_delivery_type', 'order_creation_ts','lvl3_destination_address_name','item_cnt','lmsp','lvl3_origin_address_name', 'fmsp',\n",
    "       'lvl1_rts_ts','lvl1_tts_ts','lvl1_shipped_ts','lvl1_delivered_ts','lvl1_delivery_failed_ts','platform_delivery_promise_min_ts','platform_delivery_promise_max_ts']]"
   ]
  },
  {
   "cell_type": "code",
   "execution_count": 7,
   "id": "7640ee08",
   "metadata": {},
   "outputs": [],
   "source": [
    "delivered_analysis = delivery_analysis[delivery_analysis['origin_type']=='Domestic']"
   ]
  },
  {
   "cell_type": "code",
   "execution_count": 8,
   "id": "274bb392",
   "metadata": {},
   "outputs": [],
   "source": [
    "delivered_analysis = delivered_analysis[delivery_analysis['lvl1_delivered_ts'].notnull()]"
   ]
  },
  {
   "cell_type": "code",
   "execution_count": 9,
   "id": "3ba414ee",
   "metadata": {},
   "outputs": [
    {
     "name": "stdout",
     "output_type": "stream",
     "text": [
      "Domestic    763746\n",
      "Name: origin_type, dtype: int64\n"
     ]
    }
   ],
   "source": [
    "distinct_origin_types = delivered_analysis['origin_type'].value_counts()\n",
    "print(distinct_origin_types)"
   ]
  },
  {
   "cell_type": "code",
   "execution_count": 10,
   "id": "7ddf0147",
   "metadata": {},
   "outputs": [],
   "source": [
    "# Calculate the delivery time in hours\n",
    "delivered_analysis['delivery_time'] = (delivered_analysis['lvl1_delivered_ts'] - delivered_analysis['order_creation_ts']).astype('timedelta64[h]')"
   ]
  },
  {
   "cell_type": "code",
   "execution_count": 11,
   "id": "1acd2f12",
   "metadata": {},
   "outputs": [],
   "source": [
    "# # Convert order_creation_ts and lvl1_delivered_ts columns to numpy datetime64 arrays\n",
    "order_creation_dates = delivered_analysis['order_creation_ts'].values.astype('datetime64[D]')\n",
    "lvl1_delivered_dates = delivered_analysis['lvl1_delivered_ts'].values.astype('datetime64[D]')\n",
    "\n",
    "# Calculate the number of Sundays between order creation and lvl1_delivered dates\n",
    "sundays = np.busday_count(order_creation_dates, lvl1_delivered_dates, weekmask='1111110')"
   ]
  },
  {
   "cell_type": "code",
   "execution_count": 12,
   "id": "7448b976",
   "metadata": {},
   "outputs": [],
   "source": [
    " # Calculate the delivery time in hours\n",
    "delivered_analysis['delivery_time'] = (delivered_analysis['lvl1_delivered_ts'] - delivered_analysis['order_creation_ts']).astype('timedelta64[h]')\n",
    "\n",
    "# # Convert order_creation_ts and lvl1_delivered_ts columns to numpy datetime64 arrays\n",
    "order_creation_dates = delivered_analysis['order_creation_ts'].values.astype('datetime64[D]')\n",
    "lvl1_delivered_dates = delivered_analysis['lvl1_delivered_ts'].values.astype('datetime64[D]')\n",
    "\n",
    "# # Calculate the number of Sundays between order creation and lvl1_delivered dates\n",
    "sundays = np.busday_count(order_creation_dates, lvl1_delivered_dates, weekmask='1111110')\n",
    "\n",
    "# # Deduct 24 hours for each Sunday, up to a maximum of the delivery time\n",
    "deduction = np.minimum(sundays, delivered_analysis['delivery_time'] // 24) * 24\n",
    "delivered_analysis.loc[sundays > 0, 'delivery_time'] -= deduction[sundays > 0]\n"
   ]
  },
  {
   "cell_type": "code",
   "execution_count": 13,
   "id": "e14f3d72",
   "metadata": {},
   "outputs": [
    {
     "name": "stdout",
     "output_type": "stream",
     "text": [
      "23.0     42994\n",
      "22.0     42761\n",
      "21.0     41652\n",
      "20.0     40855\n",
      "19.0     40383\n",
      "         ...  \n",
      "129.0        1\n",
      "107.0        1\n",
      "100.0        1\n",
      "91.0         1\n",
      "114.0        1\n",
      "Name: delivery_time, Length: 105, dtype: int64\n"
     ]
    }
   ],
   "source": [
    "distinct_dt = delivered_analysis['delivery_time'].value_counts()\n",
    "print(distinct_dt)"
   ]
  },
  {
   "cell_type": "code",
   "execution_count": 14,
   "id": "31940f6c",
   "metadata": {},
   "outputs": [
    {
     "name": "stdout",
     "output_type": "stream",
     "text": [
      "763746\n"
     ]
    }
   ],
   "source": [
    "num_rows = len(delivered_analysis)\n",
    "print(num_rows)"
   ]
  },
  {
   "cell_type": "code",
   "execution_count": 15,
   "id": "a942a5cb",
   "metadata": {},
   "outputs": [],
   "source": [
    "# Calculate the 99th percentile of delivery time\n",
    "delivery_time_99th = delivered_analysis['delivery_time'].quantile(0.99)\n",
    "\n",
    "# Filter out rows with delivery times greater than the 99th percentile or negative delivery time\n",
    "delivered_analysis = delivered_analysis.loc[(delivered_analysis['delivery_time'] >= 4) & \n",
    "                                             (delivered_analysis['delivery_time'] <= delivery_time_99th)]\n"
   ]
  },
  {
   "cell_type": "code",
   "execution_count": 16,
   "id": "2171ea5b",
   "metadata": {},
   "outputs": [
    {
     "name": "stdout",
     "output_type": "stream",
     "text": [
      "23.0    42994\n",
      "22.0    42761\n",
      "21.0    41652\n",
      "20.0    40855\n",
      "19.0    40383\n",
      "18.0    39547\n",
      "17.0    39359\n",
      "16.0    39224\n",
      "15.0    37497\n",
      "14.0    34193\n",
      "13.0    29035\n",
      "24.0    24421\n",
      "25.0    22639\n",
      "12.0    22401\n",
      "26.0    20569\n",
      "27.0    17762\n",
      "11.0    15467\n",
      "28.0    14850\n",
      "29.0    12186\n",
      "4.0     11882\n",
      "10.0     9936\n",
      "30.0     9433\n",
      "5.0      9369\n",
      "6.0      7677\n",
      "31.0     7577\n",
      "8.0      6879\n",
      "7.0      6784\n",
      "9.0      6463\n",
      "32.0     6460\n",
      "33.0     5811\n",
      "34.0     5179\n",
      "35.0     4232\n",
      "36.0     3577\n",
      "37.0     2929\n",
      "38.0     1976\n",
      "39.0     1684\n",
      "40.0     1450\n",
      "41.0     1262\n",
      "42.0     1099\n",
      "43.0      959\n",
      "44.0      919\n",
      "45.0      845\n",
      "46.0      831\n",
      "Name: delivery_time, dtype: int64\n"
     ]
    }
   ],
   "source": [
    "distinct_dt = delivered_analysis['delivery_time'].value_counts()\n",
    "print(distinct_dt)"
   ]
  },
  {
   "cell_type": "code",
   "execution_count": 17,
   "id": "789eb437",
   "metadata": {},
   "outputs": [
    {
     "name": "stdout",
     "output_type": "stream",
     "text": [
      "693008\n"
     ]
    }
   ],
   "source": [
    "num_rows = len(delivered_analysis)\n",
    "print(num_rows)"
   ]
  },
  {
   "cell_type": "code",
   "execution_count": 18,
   "id": "8610a6cc",
   "metadata": {},
   "outputs": [],
   "source": [
    "df_zero_delivery_time = delivered_analysis[delivered_analysis['delivery_time'] == 0]"
   ]
  },
  {
   "cell_type": "code",
   "execution_count": 19,
   "id": "58c3ea75",
   "metadata": {},
   "outputs": [
    {
     "data": {
      "text/html": [
       "<div>\n",
       "<style scoped>\n",
       "    .dataframe tbody tr th:only-of-type {\n",
       "        vertical-align: middle;\n",
       "    }\n",
       "\n",
       "    .dataframe tbody tr th {\n",
       "        vertical-align: top;\n",
       "    }\n",
       "\n",
       "    .dataframe thead th {\n",
       "        text-align: right;\n",
       "    }\n",
       "</style>\n",
       "<table border=\"1\" class=\"dataframe\">\n",
       "  <thead>\n",
       "    <tr style=\"text-align: right;\">\n",
       "      <th></th>\n",
       "      <th>tracking_number</th>\n",
       "      <th>seller_rating</th>\n",
       "      <th>shipping_type</th>\n",
       "      <th>origin_type</th>\n",
       "      <th>package_weight</th>\n",
       "      <th>lvl4_origin_address_name</th>\n",
       "      <th>is_bulky</th>\n",
       "      <th>payment_type_</th>\n",
       "      <th>fm_delivery_type</th>\n",
       "      <th>order_creation_ts</th>\n",
       "      <th>...</th>\n",
       "      <th>lvl3_origin_address_name</th>\n",
       "      <th>fmsp</th>\n",
       "      <th>lvl1_rts_ts</th>\n",
       "      <th>lvl1_tts_ts</th>\n",
       "      <th>lvl1_shipped_ts</th>\n",
       "      <th>lvl1_delivered_ts</th>\n",
       "      <th>lvl1_delivery_failed_ts</th>\n",
       "      <th>platform_delivery_promise_min_ts</th>\n",
       "      <th>platform_delivery_promise_max_ts</th>\n",
       "      <th>delivery_time</th>\n",
       "    </tr>\n",
       "  </thead>\n",
       "  <tbody>\n",
       "  </tbody>\n",
       "</table>\n",
       "<p>0 rows × 23 columns</p>\n",
       "</div>"
      ],
      "text/plain": [
       "Empty DataFrame\n",
       "Columns: [tracking_number, seller_rating, shipping_type, origin_type, package_weight, lvl4_origin_address_name, is_bulky, payment_type_, fm_delivery_type, order_creation_ts, lvl3_destination_address_name, item_cnt, lmsp, lvl3_origin_address_name, fmsp, lvl1_rts_ts, lvl1_tts_ts, lvl1_shipped_ts, lvl1_delivered_ts, lvl1_delivery_failed_ts, platform_delivery_promise_min_ts, platform_delivery_promise_max_ts, delivery_time]\n",
       "Index: []\n",
       "\n",
       "[0 rows x 23 columns]"
      ]
     },
     "execution_count": 19,
     "metadata": {},
     "output_type": "execute_result"
    }
   ],
   "source": [
    "df_zero_delivery_time.head(2500)"
   ]
  },
  {
   "cell_type": "code",
   "execution_count": 20,
   "id": "eab3d601",
   "metadata": {},
   "outputs": [
    {
     "data": {
      "text/plain": [
       "count    693008.000000\n",
       "mean         19.513756\n",
       "std           7.158345\n",
       "min           4.000000\n",
       "25%          15.000000\n",
       "50%          19.000000\n",
       "75%          23.000000\n",
       "max          46.000000\n",
       "Name: delivery_time, dtype: float64"
      ]
     },
     "execution_count": 20,
     "metadata": {},
     "output_type": "execute_result"
    }
   ],
   "source": [
    "delivered_analysis['delivery_time'].describe()"
   ]
  },
  {
   "cell_type": "code",
   "execution_count": 21,
   "id": "d6644e69",
   "metadata": {},
   "outputs": [],
   "source": [
    "# Filter out orders with missing promise dates\n",
    "valid_orders = delivered_analysis.dropna(subset=['platform_delivery_promise_min_ts', 'platform_delivery_promise_max_ts'])\n",
    "\n",
    "# Convert platform_delivery_promise_min_ts and platform_delivery_promise_max_ts columns to numpy datetime64 arrays\n",
    "promise_min_dates = valid_orders['platform_delivery_promise_min_ts'].values.astype('datetime64[D]')\n",
    "promise_max_dates = valid_orders['platform_delivery_promise_max_ts'].values.astype('datetime64[D]')\n",
    "\n",
    "# Calculate the number of Sundays between order creation and promise dates\n",
    "order_creation_dates_valid = valid_orders['order_creation_ts'].values.astype('datetime64[D]')\n",
    "sundays_min = np.busday_count(order_creation_dates_valid, promise_min_dates, weekmask='1111110')\n",
    "sundays_max = np.busday_count(order_creation_dates_valid, promise_max_dates, weekmask='1111110')\n",
    "\n",
    "valid_orders['promise_time_min'] = valid_orders['platform_delivery_promise_min_ts'] - valid_orders['order_creation_ts']\n",
    "valid_orders['promise_time_min'] = valid_orders['promise_time_min'].dt.total_seconds() / 3600\n",
    "\n",
    "valid_orders['promise_time_max'] = valid_orders['platform_delivery_promise_max_ts'] - valid_orders['order_creation_ts']\n",
    "valid_orders['promise_time_max'] = valid_orders['promise_time_max'].dt.total_seconds() / 3600\n",
    "\n",
    "# Deduct 24 hours for each Sunday, up to a maximum of the promise time\n",
    "deduction_min = np.minimum(sundays_min, valid_orders['promise_time_min'] // 24) * 24\n",
    "deduction_max = np.minimum(sundays_max, valid_orders['promise_time_max'] // 24) * 24\n",
    "valid_orders.loc[sundays_min > 0, 'promise_time_min'] -= deduction_min[sundays_min > 0]\n",
    "valid_orders.loc[sundays_max > 0, 'promise_time_max'] -= deduction_max[sundays_max > 0]\n",
    "\n",
    "# Calculate the average promise time in days and round up to the nearest integer\n",
    "valid_orders['promise_time_avg'] = (valid_orders['promise_time_min'] + valid_orders['promise_time_max']) / 2\n",
    "valid_orders['promise_time_avg'] = np.ceil(valid_orders['promise_time_avg'])\n"
   ]
  },
  {
   "cell_type": "code",
   "execution_count": 22,
   "id": "a6b41e5d",
   "metadata": {},
   "outputs": [
    {
     "name": "stdout",
     "output_type": "stream",
     "text": [
      "22.0    45061\n",
      "21.0    43812\n",
      "23.0    43492\n",
      "24.0    38552\n",
      "20.0    37903\n",
      "19.0    32707\n",
      "15.0    30474\n",
      "16.0    30185\n",
      "17.0    29380\n",
      "14.0    27908\n",
      "18.0    27421\n",
      "13.0    25478\n",
      "25.0    23675\n",
      "26.0    21748\n",
      "27.0    20158\n",
      "28.0    19070\n",
      "29.0    18729\n",
      "30.0    17998\n",
      "31.0    13119\n",
      "32.0    11795\n",
      "12.0    11469\n",
      "33.0    10659\n",
      "11.0    10318\n",
      "10.0    10016\n",
      "7.0      9735\n",
      "9.0      9569\n",
      "8.0      9359\n",
      "34.0     9319\n",
      "35.0     9091\n",
      "36.0     7737\n",
      "1.0      4943\n",
      "3.0      4668\n",
      "4.0      4385\n",
      "2.0      4069\n",
      "42.0     3949\n",
      "5.0      3712\n",
      "6.0      3494\n",
      "41.0     2354\n",
      "37.0     1877\n",
      "40.0     1386\n",
      "39.0     1022\n",
      "38.0      958\n",
      "43.0       66\n",
      "44.0       48\n",
      "45.0       42\n",
      "47.0       25\n",
      "46.0       21\n",
      "54.0       15\n",
      "48.0       15\n",
      "49.0        8\n",
      "53.0        6\n",
      "51.0        5\n",
      "60.0        1\n",
      "52.0        1\n",
      "59.0        1\n",
      "Name: promise_time_avg, dtype: int64\n"
     ]
    }
   ],
   "source": [
    "distinct_pt = valid_orders['promise_time_avg'].value_counts()\n",
    "print(distinct_pt)"
   ]
  },
  {
   "cell_type": "code",
   "execution_count": 23,
   "id": "fe14e774",
   "metadata": {},
   "outputs": [
    {
     "data": {
      "image/png": "[encoded data removed]",
      "text/plain": [
       "<Figure size 800x600 with 1 Axes>"
      ]
     },
     "metadata": {},
     "output_type": "display_data"
    }
   ],
   "source": [
    "# Plot histogram of delivery time in hours\n",
    "fig, ax = plt.subplots(figsize=(8, 6))\n",
    "\n",
    "# Plot the histogram\n",
    "ax.hist(delivered_analysis['delivery_time'], bins=40)\n",
    "\n",
    "# Add labels and title\n",
    "ax.set_xlabel('Delivery Time (hours)')\n",
    "ax.set_ylabel('Frequency')\n",
    "ax.set_title('Histogram of Delivery Time')\n",
    "\n",
    "# Show the plot\n",
    "plt.show()"
   ]
  },
  {
   "cell_type": "code",
   "execution_count": 24,
   "id": "f9524634",
   "metadata": {},
   "outputs": [],
   "source": [
    " # Calculate the delivery time in days\n",
    "delivered_analysis['delivery_time_d'] = (delivered_analysis['lvl1_delivered_ts'] - delivered_analysis['order_creation_ts']).astype('timedelta64[D]')\n",
    "\n",
    "# # Convert order_creation_ts and lvl1_delivered_ts columns to numpy datetime64 arrays\n",
    "order_creation_dates = delivered_analysis['order_creation_ts'].values.astype('datetime64[D]')\n",
    "lvl1_delivered_dates = delivered_analysis['lvl1_delivered_ts'].values.astype('datetime64[D]')\n",
    "\n",
    "# # Calculate the number of Sundays between order creation and lvl1_delivered dates\n",
    "sundays = np.busday_count(order_creation_dates, lvl1_delivered_dates, weekmask='1111110')\n",
    "\n",
    "# # Deduct 1 day for each Sunday, up to a maximum of the delivery time\n",
    "deduction = np.minimum(sundays, delivered_analysis['delivery_time_d']) * 1\n",
    "delivered_analysis.loc[sundays > 0, 'delivery_time_d'] -= deduction[sundays > 0]"
   ]
  },
  {
   "cell_type": "code",
   "execution_count": 25,
   "id": "d1fa83ac",
   "metadata": {},
   "outputs": [
    {
     "name": "stdout",
     "output_type": "stream",
     "text": [
      "0.0    524358\n",
      "1.0    168650\n",
      "Name: delivery_time_d, dtype: int64\n"
     ]
    }
   ],
   "source": [
    "distinct_dtd = delivered_analysis['delivery_time_d'].value_counts()\n",
    "print(distinct_dtd)"
   ]
  },
  {
   "cell_type": "code",
   "execution_count": 26,
   "id": "22260ebd",
   "metadata": {},
   "outputs": [
    {
     "name": "stdout",
     "output_type": "stream",
     "text": [
      "693008\n"
     ]
    }
   ],
   "source": [
    "num_rows = len(delivered_analysis)\n",
    "print(num_rows)"
   ]
  },
  {
   "cell_type": "code",
   "execution_count": 27,
   "id": "fdd27aea",
   "metadata": {},
   "outputs": [],
   "source": [
    "# Create a binary variable for delivery promise matching\n",
    "# delivered_analysis['delivery_promise_matching'] = (delivered_analysis['delivery_time_d'] == delivered_analysis['promise_time_avg']).astype(int)"
   ]
  },
  {
   "cell_type": "code",
   "execution_count": 28,
   "id": "715e9d7d",
   "metadata": {},
   "outputs": [],
   "source": [
    "delivered_analysis.dropna(subset=['lvl1_shipped_ts'], inplace=True)\n",
    "\n",
    "# Calculate the delivery time in days\n",
    "delivered_analysis['ship_time_d'] = (delivered_analysis['lvl1_shipped_ts'] - delivered_analysis['order_creation_ts']).astype('timedelta64[D]')\n",
    "\n",
    "# Convert order_creation_ts and lvl1_shipped_ts columns to numpy datetime64 arrays\n",
    "order_creation_dates = delivered_analysis['order_creation_ts'].values.astype('datetime64[D]')\n",
    "lvl1_shipped_dates = delivered_analysis['lvl1_shipped_ts'].values.astype('datetime64[D]')\n",
    "\n",
    "# Calculate the number of Sundays between order creation and lvl1_shipped dates\n",
    "sundays = np.busday_count(order_creation_dates, lvl1_shipped_dates, weekmask='1111110')\n",
    "\n",
    "# Deduct 1 day for each Sunday, up to a maximum of the delivery time\n",
    "deduction = np.minimum(sundays, delivered_analysis['ship_time_d']) * 1\n",
    "delivered_analysis.loc[sundays > 0, 'ship_time_d'] -= deduction[sundays > 0]\n"
   ]
  },
  {
   "cell_type": "code",
   "execution_count": 29,
   "id": "e1d2689a",
   "metadata": {},
   "outputs": [
    {
     "name": "stdout",
     "output_type": "stream",
     "text": [
      "0.0    440813\n",
      "1.0    251476\n",
      "2.0       709\n",
      "Name: ship_time_d, dtype: int64\n"
     ]
    }
   ],
   "source": [
    "distinct_std = delivered_analysis['ship_time_d'].value_counts()\n",
    "print(distinct_std)"
   ]
  },
  {
   "cell_type": "code",
   "execution_count": 30,
   "id": "4db3f256",
   "metadata": {},
   "outputs": [],
   "source": [
    "# Create Delivery - hour of the day feature\n",
    "delivered_analysis['delivery_hour'] = delivered_analysis['lvl1_delivered_ts'].dt.hour\n",
    "\n",
    "# Create Delivery - day of the week feature\n",
    "delivered_analysis['delivery_dayofweek'] = delivered_analysis['lvl1_delivered_ts'].dt.dayofweek\n",
    "\n",
    "# Create Order - hour of the day feature\n",
    "delivered_analysis['order_hour'] = delivered_analysis['order_creation_ts'].dt.hour\n",
    "\n",
    "# Create Order - day of the week feature\n",
    "delivered_analysis['order_dayofweek'] = delivered_analysis['order_creation_ts'].dt.dayofweek\n"
   ]
  },
  {
   "cell_type": "code",
   "execution_count": 31,
   "id": "f02c9bd9",
   "metadata": {},
   "outputs": [
    {
     "data": {
      "text/html": [
       "<div>\n",
       "<style scoped>\n",
       "    .dataframe tbody tr th:only-of-type {\n",
       "        vertical-align: middle;\n",
       "    }\n",
       "\n",
       "    .dataframe tbody tr th {\n",
       "        vertical-align: top;\n",
       "    }\n",
       "\n",
       "    .dataframe thead th {\n",
       "        text-align: right;\n",
       "    }\n",
       "</style>\n",
       "<table border=\"1\" class=\"dataframe\">\n",
       "  <thead>\n",
       "    <tr style=\"text-align: right;\">\n",
       "      <th></th>\n",
       "      <th>tracking_number</th>\n",
       "      <th>seller_rating</th>\n",
       "      <th>shipping_type</th>\n",
       "      <th>origin_type</th>\n",
       "      <th>package_weight</th>\n",
       "      <th>lvl4_origin_address_name</th>\n",
       "      <th>is_bulky</th>\n",
       "      <th>payment_type_</th>\n",
       "      <th>fm_delivery_type</th>\n",
       "      <th>order_creation_ts</th>\n",
       "      <th>...</th>\n",
       "      <th>lvl1_delivery_failed_ts</th>\n",
       "      <th>platform_delivery_promise_min_ts</th>\n",
       "      <th>platform_delivery_promise_max_ts</th>\n",
       "      <th>delivery_time</th>\n",
       "      <th>delivery_time_d</th>\n",
       "      <th>ship_time_d</th>\n",
       "      <th>delivery_hour</th>\n",
       "      <th>delivery_dayofweek</th>\n",
       "      <th>order_hour</th>\n",
       "      <th>order_dayofweek</th>\n",
       "    </tr>\n",
       "  </thead>\n",
       "  <tbody>\n",
       "    <tr>\n",
       "      <th>1</th>\n",
       "      <td>30310567</td>\n",
       "      <td>90.0</td>\n",
       "      <td>Marketplace</td>\n",
       "      <td>Domestic</td>\n",
       "      <td>1.200</td>\n",
       "      <td>Homagama</td>\n",
       "      <td>0</td>\n",
       "      <td>COD</td>\n",
       "      <td>Drop-off</td>\n",
       "      <td>2022-09-01 11:10:23</td>\n",
       "      <td>...</td>\n",
       "      <td>NaT</td>\n",
       "      <td>2022-09-04 11:10:23</td>\n",
       "      <td>2022-09-06 11:10:23</td>\n",
       "      <td>25.0</td>\n",
       "      <td>1.0</td>\n",
       "      <td>0.0</td>\n",
       "      <td>12</td>\n",
       "      <td>6</td>\n",
       "      <td>11</td>\n",
       "      <td>3</td>\n",
       "    </tr>\n",
       "    <tr>\n",
       "      <th>2</th>\n",
       "      <td>30310579</td>\n",
       "      <td>88.0</td>\n",
       "      <td>Marketplace</td>\n",
       "      <td>Domestic</td>\n",
       "      <td>4.000</td>\n",
       "      <td>Colombo 10 - Maradana</td>\n",
       "      <td>0</td>\n",
       "      <td>Prepaid</td>\n",
       "      <td>Pickup</td>\n",
       "      <td>2022-09-01 22:20:37</td>\n",
       "      <td>...</td>\n",
       "      <td>NaT</td>\n",
       "      <td>2022-09-05 06:00:00</td>\n",
       "      <td>2022-09-06 18:00:00</td>\n",
       "      <td>15.0</td>\n",
       "      <td>0.0</td>\n",
       "      <td>0.0</td>\n",
       "      <td>14</td>\n",
       "      <td>0</td>\n",
       "      <td>22</td>\n",
       "      <td>3</td>\n",
       "    </tr>\n",
       "    <tr>\n",
       "      <th>4</th>\n",
       "      <td>30310656</td>\n",
       "      <td>86.0</td>\n",
       "      <td>Marketplace</td>\n",
       "      <td>Domestic</td>\n",
       "      <td>1.000</td>\n",
       "      <td>Colombo 11 - Pettah</td>\n",
       "      <td>0</td>\n",
       "      <td>COD</td>\n",
       "      <td>Drop-off</td>\n",
       "      <td>2022-09-01 00:05:12</td>\n",
       "      <td>...</td>\n",
       "      <td>NaT</td>\n",
       "      <td>2022-09-04 06:00:00</td>\n",
       "      <td>2022-09-05 18:00:00</td>\n",
       "      <td>38.0</td>\n",
       "      <td>1.0</td>\n",
       "      <td>0.0</td>\n",
       "      <td>14</td>\n",
       "      <td>1</td>\n",
       "      <td>0</td>\n",
       "      <td>3</td>\n",
       "    </tr>\n",
       "    <tr>\n",
       "      <th>5</th>\n",
       "      <td>30310658</td>\n",
       "      <td>94.0</td>\n",
       "      <td>Warehouse</td>\n",
       "      <td>Domestic</td>\n",
       "      <td>1.295</td>\n",
       "      <td>Kelaniya</td>\n",
       "      <td>0</td>\n",
       "      <td>Prepaid</td>\n",
       "      <td>Pickup</td>\n",
       "      <td>2022-09-01 12:55:51</td>\n",
       "      <td>...</td>\n",
       "      <td>NaT</td>\n",
       "      <td>2022-09-03 18:00:00</td>\n",
       "      <td>2022-09-05 18:00:00</td>\n",
       "      <td>23.0</td>\n",
       "      <td>0.0</td>\n",
       "      <td>0.0</td>\n",
       "      <td>12</td>\n",
       "      <td>1</td>\n",
       "      <td>12</td>\n",
       "      <td>3</td>\n",
       "    </tr>\n",
       "    <tr>\n",
       "      <th>6</th>\n",
       "      <td>30310662</td>\n",
       "      <td>87.0</td>\n",
       "      <td>Warehouse</td>\n",
       "      <td>Domestic</td>\n",
       "      <td>0.065</td>\n",
       "      <td>Kelaniya</td>\n",
       "      <td>0</td>\n",
       "      <td>COD</td>\n",
       "      <td>Pickup</td>\n",
       "      <td>2022-09-01 14:05:59</td>\n",
       "      <td>...</td>\n",
       "      <td>NaT</td>\n",
       "      <td>2022-09-03 18:00:00</td>\n",
       "      <td>2022-09-05 18:00:00</td>\n",
       "      <td>22.0</td>\n",
       "      <td>0.0</td>\n",
       "      <td>0.0</td>\n",
       "      <td>12</td>\n",
       "      <td>4</td>\n",
       "      <td>14</td>\n",
       "      <td>3</td>\n",
       "    </tr>\n",
       "  </tbody>\n",
       "</table>\n",
       "<p>5 rows × 29 columns</p>\n",
       "</div>"
      ],
      "text/plain": [
       "  tracking_number  seller_rating shipping_type origin_type  package_weight  \\\n",
       "1        30310567           90.0   Marketplace    Domestic           1.200   \n",
       "2        30310579           88.0   Marketplace    Domestic           4.000   \n",
       "4        30310656           86.0   Marketplace    Domestic           1.000   \n",
       "5        30310658           94.0     Warehouse    Domestic           1.295   \n",
       "6        30310662           87.0     Warehouse    Domestic           0.065   \n",
       "\n",
       "  lvl4_origin_address_name  is_bulky payment_type_ fm_delivery_type  \\\n",
       "1                 Homagama         0           COD         Drop-off   \n",
       "2    Colombo 10 - Maradana         0       Prepaid           Pickup   \n",
       "4      Colombo 11 - Pettah         0           COD         Drop-off   \n",
       "5                 Kelaniya         0       Prepaid           Pickup   \n",
       "6                 Kelaniya         0           COD           Pickup   \n",
       "\n",
       "    order_creation_ts  ... lvl1_delivery_failed_ts  \\\n",
       "1 2022-09-01 11:10:23  ...                     NaT   \n",
       "2 2022-09-01 22:20:37  ...                     NaT   \n",
       "4 2022-09-01 00:05:12  ...                     NaT   \n",
       "5 2022-09-01 12:55:51  ...                     NaT   \n",
       "6 2022-09-01 14:05:59  ...                     NaT   \n",
       "\n",
       "   platform_delivery_promise_min_ts platform_delivery_promise_max_ts  \\\n",
       "1               2022-09-04 11:10:23              2022-09-06 11:10:23   \n",
       "2               2022-09-05 06:00:00              2022-09-06 18:00:00   \n",
       "4               2022-09-04 06:00:00              2022-09-05 18:00:00   \n",
       "5               2022-09-03 18:00:00              2022-09-05 18:00:00   \n",
       "6               2022-09-03 18:00:00              2022-09-05 18:00:00   \n",
       "\n",
       "  delivery_time delivery_time_d ship_time_d delivery_hour delivery_dayofweek  \\\n",
       "1          25.0             1.0         0.0            12                  6   \n",
       "2          15.0             0.0         0.0            14                  0   \n",
       "4          38.0             1.0         0.0            14                  1   \n",
       "5          23.0             0.0         0.0            12                  1   \n",
       "6          22.0             0.0         0.0            12                  4   \n",
       "\n",
       "  order_hour order_dayofweek  \n",
       "1         11               3  \n",
       "2         22               3  \n",
       "4          0               3  \n",
       "5         12               3  \n",
       "6         14               3  \n",
       "\n",
       "[5 rows x 29 columns]"
      ]
     },
     "execution_count": 31,
     "metadata": {},
     "output_type": "execute_result"
    }
   ],
   "source": [
    "delivered_analysis.head()"
   ]
  },
  {
   "cell_type": "code",
   "execution_count": 32,
   "id": "6c0ab508",
   "metadata": {},
   "outputs": [],
   "source": [
    "# Create a consolidated feature for shipping and delivery type\n",
    "conditions = [\n",
    "    (delivered_analysis['shipping_type'] == 'Marketplace') & (delivered_analysis['fm_delivery_type'] == 'Pickup'),\n",
    "    (delivered_analysis['shipping_type'] == 'Marketplace') & (delivered_analysis['fm_delivery_type'] == 'Drop-off'),\n",
    "    (delivered_analysis['shipping_type'] == 'Warehouse') & (delivered_analysis['fm_delivery_type'] == 'Pickup')\n",
    "]\n",
    "choices = ['Vendor Pickup', 'Vendor Dropoff', 'Warehouse']\n",
    "delivered_analysis['fulfillment_type'] = np.select(conditions, choices, default='Other')\n"
   ]
  },
  {
   "cell_type": "code",
   "execution_count": 33,
   "id": "2375b65f",
   "metadata": {},
   "outputs": [
    {
     "name": "stdout",
     "output_type": "stream",
     "text": [
      "Vendor Dropoff    450385\n",
      "Vendor Pickup     167313\n",
      "Warehouse          75300\n",
      "Name: fulfillment_type, dtype: int64\n"
     ]
    }
   ],
   "source": [
    "ff_type = delivered_analysis['fulfillment_type'].value_counts()\n",
    "print(ff_type)"
   ]
  },
  {
   "cell_type": "code",
   "execution_count": 34,
   "id": "14c93502",
   "metadata": {},
   "outputs": [
    {
     "name": "stdout",
     "output_type": "stream",
     "text": [
      "different_ori_des    604497\n",
      "same_ori_des          88501\n",
      "Name: ori_des, dtype: int64\n"
     ]
    }
   ],
   "source": [
    "# Create a new feature indicating whether the destination and origin addresses are the same\n",
    "delivered_analysis['ori_des'] = np.where(delivered_analysis['lvl3_destination_address_name'] == delivered_analysis['lvl3_origin_address_name'], 'same_ori_des', 'different_ori_des')\n",
    "ori_des = delivered_analysis['ori_des'].value_counts()\n",
    "print(ori_des)"
   ]
  },
  {
   "cell_type": "code",
   "execution_count": 35,
   "id": "d578b3db",
   "metadata": {},
   "outputs": [],
   "source": [
    "predictor_variables = delivered_analysis[['delivery_time','ori_des','fulfillment_type','delivery_hour','delivery_dayofweek','order_hour','order_dayofweek','seller_rating',\n",
    "                                         'item_cnt','lvl3_origin_address_name','lmsp','lvl3_destination_address_name','package_weight','payment_type_']]\n",
    "\n",
    "target_variable = delivered_analysis[['delivery_time']]"
   ]
  },
  {
   "cell_type": "code",
   "execution_count": 36,
   "id": "dbb072dc",
   "metadata": {},
   "outputs": [],
   "source": [
    "#LSTM"
   ]
  },
  {
   "cell_type": "code",
   "execution_count": 37,
   "id": "fa955adc",
   "metadata": {},
   "outputs": [],
   "source": [
    "# Import the necessary libraries\n",
    "import pandas as pd\n",
    "import numpy as np\n",
    "from sklearn.model_selection import train_test_split\n",
    "from keras.models import Sequential\n",
    "from keras.layers import Dense, LSTM\n",
    "from keras.callbacks import EarlyStopping\n",
    "from sklearn.preprocessing import StandardScaler, OneHotEncoder\n",
    "from scipy.sparse import hstack, csr_matrix\n",
    "\n",
    "\n",
    "# Split the data into training and testing sets\n",
    "X = delivered_analysis[['ori_des', 'fulfillment_type', 'delivery_hour', 'delivery_dayofweek', 'order_hour', 'order_dayofweek', 'seller_rating', 'item_cnt', 'lvl3_origin_address_name', 'lmsp', 'lvl3_destination_address_name', 'package_weight', 'payment_type_']]\n",
    "y = delivered_analysis['delivery_time']\n",
    "\n",
    "X_train, X_test, y_train, y_test = train_test_split(X, y, test_size=0.2, random_state=42)\n",
    "\n",
    "# Define the categorical columns and one-hot encode them\n",
    "cat_cols = ['ori_des', 'delivery_hour', 'delivery_dayofweek', 'order_hour', 'order_dayofweek', 'lmsp', 'fulfillment_type', 'lvl3_destination_address_name', 'lvl3_origin_address_name', 'payment_type_']\n",
    "enc = OneHotEncoder(handle_unknown='ignore')\n",
    "enc.fit(X_train[cat_cols])\n",
    "\n",
    "X_train_enc = enc.transform(X_train[cat_cols])\n",
    "X_test_enc = enc.transform(X_test[cat_cols])\n",
    "\n",
    "X_train = hstack([X_train.drop(cat_cols, axis=1), X_train_enc])\n",
    "X_test = hstack([X_test.drop(cat_cols, axis=1), X_test_enc])\n",
    "\n",
    "# Scale the data\n",
    "scaler = StandardScaler(with_mean=False)\n",
    "X_train_scaled = scaler.fit_transform(X_train)\n",
    "X_test_scaled = scaler.transform(X_test)\n"
   ]
  },
  {
   "cell_type": "code",
   "execution_count": 38,
   "id": "252ebb20",
   "metadata": {},
   "outputs": [],
   "source": [
    "# Reshape the data for LSTM\n",
    "n_steps = 1\n",
    "n_features = X_train_scaled.shape[1]\n",
    "\n",
    "if len(X_train_scaled.shape) == 1:\n",
    "    X_train_scaled = X_train_scaled.toarray()\n",
    "    X_test_scaled = X_test_scaled.toarray()\n",
    "\n",
    "X_train_dense = X_train_scaled.todense()\n",
    "X_test_dense = X_test_scaled.todense()\n",
    "\n",
    "X_train_reshaped = X_train_dense.reshape((X_train_dense.shape[0], n_steps, n_features))\n",
    "X_test_reshaped = X_test_dense.reshape((X_test_dense.shape[0], n_steps, n_features))\n",
    "\n",
    "# Define the quantile levels\n",
    "quantiles = [0.05, 0.25, 0.5, 0.75, 0.95]\n"
   ]
  },
  {
   "cell_type": "code",
   "execution_count": 48,
   "id": "8ee002e2",
   "metadata": {},
   "outputs": [
    {
     "name": "stdout",
     "output_type": "stream",
     "text": [
      "Epoch 1/300\n",
      "5544/5544 [==============================] - 25s 4ms/step - loss: 23.0781 - val_loss: 14.8177\n",
      "Epoch 2/300\n",
      "5544/5544 [==============================] - 24s 4ms/step - loss: 12.5258 - val_loss: 11.6626\n",
      "Epoch 3/300\n",
      "5544/5544 [==============================] - 23s 4ms/step - loss: 10.4427 - val_loss: 10.5256\n",
      "Epoch 4/300\n",
      "5544/5544 [==============================] - 22s 4ms/step - loss: 9.3373 - val_loss: 9.4552\n",
      "Epoch 5/300\n",
      "5544/5544 [==============================] - 23s 4ms/step - loss: 8.5999 - val_loss: 8.5757\n",
      "Epoch 6/300\n",
      "5544/5544 [==============================] - 22s 4ms/step - loss: 8.2358 - val_loss: 8.1358\n",
      "Epoch 7/300\n",
      "5544/5544 [==============================] - 23s 4ms/step - loss: 7.9160 - val_loss: 7.9990\n",
      "Epoch 8/300\n",
      "5544/5544 [==============================] - 22s 4ms/step - loss: 7.7921 - val_loss: 7.6593\n",
      "Epoch 9/300\n",
      "5544/5544 [==============================] - 23s 4ms/step - loss: 7.6871 - val_loss: 7.6095\n",
      "Epoch 10/300\n",
      "5544/5544 [==============================] - 23s 4ms/step - loss: 7.5842 - val_loss: 7.4433\n",
      "Epoch 11/300\n",
      "5544/5544 [==============================] - 23s 4ms/step - loss: 7.4317 - val_loss: 7.3566\n",
      "Epoch 12/300\n",
      "5544/5544 [==============================] - 23s 4ms/step - loss: 7.3288 - val_loss: 7.7056\n",
      "Epoch 13/300\n",
      "5544/5544 [==============================] - 22s 4ms/step - loss: 7.3089 - val_loss: 7.2411\n",
      "Epoch 14/300\n",
      "5544/5544 [==============================] - 22s 4ms/step - loss: 7.2825 - val_loss: 7.4046\n",
      "Epoch 15/300\n",
      "5544/5544 [==============================] - 24s 4ms/step - loss: 7.1508 - val_loss: 7.3306\n",
      "Epoch 16/300\n",
      "5544/5544 [==============================] - 23s 4ms/step - loss: 7.0706 - val_loss: 7.4720\n",
      "Epoch 17/300\n",
      "5544/5544 [==============================] - 23s 4ms/step - loss: 7.0310 - val_loss: 7.3738\n",
      "Epoch 18/300\n",
      "5544/5544 [==============================] - 23s 4ms/step - loss: 6.9857 - val_loss: 7.1472\n",
      "Epoch 19/300\n",
      "5544/5544 [==============================] - 23s 4ms/step - loss: 6.9398 - val_loss: 7.0781\n",
      "Epoch 20/300\n",
      "5544/5544 [==============================] - 23s 4ms/step - loss: 6.9038 - val_loss: 7.3025\n",
      "Epoch 21/300\n",
      "5544/5544 [==============================] - 23s 4ms/step - loss: 6.8657 - val_loss: 7.0482\n",
      "Epoch 22/300\n",
      "5544/5544 [==============================] - 23s 4ms/step - loss: 7.0167 - val_loss: 7.1823\n",
      "Epoch 23/300\n",
      "5544/5544 [==============================] - 24s 4ms/step - loss: 6.7937 - val_loss: 6.9944\n",
      "Epoch 24/300\n",
      "5544/5544 [==============================] - 23s 4ms/step - loss: 6.7658 - val_loss: 7.0896\n",
      "Epoch 25/300\n",
      "5544/5544 [==============================] - 22s 4ms/step - loss: 6.7524 - val_loss: 6.9747\n",
      "Epoch 26/300\n",
      "5544/5544 [==============================] - 23s 4ms/step - loss: 6.7271 - val_loss: 7.0053\n",
      "Epoch 27/300\n",
      "5544/5544 [==============================] - 23s 4ms/step - loss: 6.6986 - val_loss: 6.9809\n",
      "Epoch 28/300\n",
      "5544/5544 [==============================] - 23s 4ms/step - loss: 6.6861 - val_loss: 6.9606\n",
      "Epoch 29/300\n",
      "5544/5544 [==============================] - 24s 4ms/step - loss: 6.6516 - val_loss: 7.0135\n",
      "Epoch 30/300\n",
      "5544/5544 [==============================] - 24s 4ms/step - loss: 6.6357 - val_loss: 7.3876\n",
      "Epoch 31/300\n",
      "5544/5544 [==============================] - 23s 4ms/step - loss: 6.6668 - val_loss: 7.4484\n",
      "Epoch 32/300\n",
      "5544/5544 [==============================] - 23s 4ms/step - loss: 6.5895 - val_loss: 7.0288\n",
      "Epoch 33/300\n",
      "5544/5544 [==============================] - 24s 4ms/step - loss: 6.5603 - val_loss: 6.8400\n",
      "Epoch 34/300\n",
      "5544/5544 [==============================] - 24s 4ms/step - loss: 6.5428 - val_loss: 7.1029\n",
      "Epoch 35/300\n",
      "5544/5544 [==============================] - 24s 4ms/step - loss: 6.5233 - val_loss: 7.2365\n",
      "Epoch 36/300\n",
      "5544/5544 [==============================] - 24s 4ms/step - loss: 6.5078 - val_loss: 6.9728\n",
      "Epoch 37/300\n",
      "5544/5544 [==============================] - 23s 4ms/step - loss: 6.4858 - val_loss: 6.8986\n",
      "Epoch 38/300\n",
      "5544/5544 [==============================] - 24s 4ms/step - loss: 6.4763 - val_loss: 6.8239\n",
      "Epoch 39/300\n",
      "5544/5544 [==============================] - 24s 4ms/step - loss: 6.5702 - val_loss: 7.0065\n",
      "Epoch 40/300\n",
      "5544/5544 [==============================] - 24s 4ms/step - loss: 6.4846 - val_loss: 6.8984\n",
      "Epoch 41/300\n",
      "5544/5544 [==============================] - 24s 4ms/step - loss: 6.4279 - val_loss: 6.9967\n",
      "Epoch 42/300\n",
      "5544/5544 [==============================] - 24s 4ms/step - loss: 6.4246 - val_loss: 6.7699\n",
      "Epoch 43/300\n",
      "5544/5544 [==============================] - 24s 4ms/step - loss: 6.3976 - val_loss: 7.3590\n",
      "Epoch 44/300\n",
      "5544/5544 [==============================] - 24s 4ms/step - loss: 6.3842 - val_loss: 6.7967\n",
      "Epoch 45/300\n",
      "5544/5544 [==============================] - 24s 4ms/step - loss: 9.0199 - val_loss: 6.7237\n",
      "Epoch 46/300\n",
      "5544/5544 [==============================] - 24s 4ms/step - loss: 6.3660 - val_loss: 6.7559\n",
      "Epoch 47/300\n",
      "5544/5544 [==============================] - 24s 4ms/step - loss: 6.3348 - val_loss: 6.8308\n",
      "Epoch 48/300\n",
      "5544/5544 [==============================] - 25s 4ms/step - loss: 6.3157 - val_loss: 6.7296\n",
      "Epoch 49/300\n",
      "5544/5544 [==============================] - 24s 4ms/step - loss: 6.3189 - val_loss: 6.7274\n",
      "Epoch 50/300\n",
      "5544/5544 [==============================] - 24s 4ms/step - loss: 6.2968 - val_loss: 6.9169\n",
      "4332/4332 [==============================] - 9s 2ms/step\n"
     ]
    }
   ],
   "source": [
    "# Define the LSTM model\n",
    "model = Sequential()\n",
    "model.add(LSTM(64, input_shape=(n_steps, n_features), activation='relu'))\n",
    "model.add(Dense(1))\n",
    "model.compile(loss='mse', optimizer='adam')\n",
    "\n",
    "X_train_reshaped = X_train.toarray().reshape((X_train.shape[0], 1, X_train.shape[1]))\n",
    "X_test_reshaped = X_test.toarray().reshape((X_test.shape[0], 1, X_test.shape[1]))\n",
    "\n",
    "# Train the model\n",
    "early_stop = EarlyStopping(monitor='val_loss', patience=5)\n",
    "model.fit(X_train_reshaped, y_train, epochs=300, batch_size=100, validation_data=(X_test_reshaped, y_test), callbacks=[early_stop])\n",
    "\n",
    "# Predict the target variable for the test data\n",
    "y_pred = model.predict(X_test_reshaped)"
   ]
  },
  {
   "cell_type": "code",
   "execution_count": 49,
   "id": "f923f8bf",
   "metadata": {},
   "outputs": [
    {
     "name": "stdout",
     "output_type": "stream",
     "text": [
      "Pinball loss (0.05): -0.66\n",
      "Pinball loss (0.25): -0.44\n",
      "Pinball loss (0.50): -0.17\n",
      "Pinball loss (0.75): 0.10\n",
      "Pinball loss (0.95): 0.32\n",
      "Average pinball loss: -0.17\n"
     ]
    }
   ],
   "source": [
    "# Compute the pinball loss for each observation\n",
    "pinball_losses = np.zeros((X_test_scaled.shape[0], len(quantiles)))\n",
    "for i, q in enumerate(quantiles):\n",
    "    for j in range(X_test_scaled.shape[0]):\n",
    "        error = q * (y_test.values[j] - y_pred[j]) if y_test.values[j] >= y_pred[j] else (q - 1) * (y_pred[j] - y_test.values[j])\n",
    "        pinball_losses[j, i] = error\n",
    "\n",
    "# Compute the average pinball loss over all observations\n",
    "avg_pinball_loss = np.mean(np.mean(pinball_losses, axis=1))\n",
    "\n",
    "# Print the results\n",
    "for i, q in enumerate(quantiles):\n",
    "    pinball_loss = np.mean(pinball_losses[:, i])\n",
    "    print(f\"Pinball loss ({q:.2f}): {pinball_loss:.2f}\")\n",
    "    print(f\"Average pinball loss: {avg_pinball_loss:.2f}\")\n",
    "\n"
   ]
  },
  {
   "cell_type": "code",
   "execution_count": 47,
   "id": "74f214c6",
   "metadata": {},
   "outputs": [
    {
     "name": "stdout",
     "output_type": "stream",
     "text": [
      "CRPS: 0.12\n"
     ]
    }
   ],
   "source": [
    "# Compute the CRPS for the test data\n",
    "from scipy.stats import norm\n",
    "crps = 0\n",
    "for j in range(X_test_scaled.shape[0]):\n",
    "    cdf_vals = norm.cdf(y_pred[j] - y_test.values[j], scale=np.std(y_train))\n",
    "    crps += np.mean((quantiles - cdf_vals) ** 2)\n",
    "crps /= len(y_test)\n",
    "\n",
    "# Print the results\n",
    "print(f\"CRPS: {crps:.2f}\")\n"
   ]
  },
  {
   "cell_type": "code",
   "execution_count": 53,
   "id": "96efd0ea",
   "metadata": {},
   "outputs": [
    {
     "name": "stdout",
     "output_type": "stream",
     "text": [
      "4332/4332 [==============================] - 9s 2ms/step\n"
     ]
    },
    {
     "data": {
      "image/png": "[encoded data removed]",
      "text/plain": [
       "<Figure size 640x480 with 1 Axes>"
      ]
     },
     "metadata": {},
     "output_type": "display_data"
    }
   ],
   "source": [
    "import matplotlib.pyplot as plt\n",
    "import seaborn as sns\n",
    "\n",
    "# Plot the histogram of actual observations with normalized density\n",
    "sns.histplot(y_test, color='blue', label='Actual', kde=True, alpha=0.5, stat='density')\n",
    "\n",
    "# Generate the predictive density from LSTM forecasts\n",
    "y_pred_density = model.predict(X_test_reshaped)\n",
    "\n",
    "# Plot the predicted density as a line chart\n",
    "sns.kdeplot(y_pred_density[:,0], color='black', label='Predictive', linewidth=2)\n",
    "\n",
    "# Get the maximum density value from the predictive density\n",
    "max_density = max(sns.kdeplot(y_pred_density[:,0]).get_lines()[0].get_ydata())\n",
    "\n",
    "# Set the y-axis limit to the maximum density value\n",
    "plt.ylim(0, max_density)\n",
    "\n",
    "# Add legend and labels to the plot\n",
    "plt.legend()\n",
    "plt.xlabel('Target Variable')\n",
    "plt.ylabel('Probability Density')\n",
    "plt.title('Histogram of Actual vs Predictive Density')\n",
    "\n",
    "# Show the plot\n",
    "plt.show()"
   ]
  },
  {
   "cell_type": "code",
   "execution_count": 56,
   "id": "87c474aa",
   "metadata": {},
   "outputs": [
    {
     "ename": "NameError",
     "evalue": "name 'history' is not defined",
     "output_type": "error",
     "traceback": [
      "\u001b[1;31m---------------------------------------------------------------------------\u001b[0m",
      "\u001b[1;31mNameError\u001b[0m                                 Traceback (most recent call last)",
      "\u001b[1;32m~\\AppData\\Local\\Temp\\ipykernel_14892\\2820286001.py\u001b[0m in \u001b[0;36m<module>\u001b[1;34m\u001b[0m\n\u001b[0;32m      1\u001b[0m \u001b[1;31m# Plot the training and validation loss over epochs\u001b[0m\u001b[1;33m\u001b[0m\u001b[1;33m\u001b[0m\u001b[0m\n\u001b[1;32m----> 2\u001b[1;33m \u001b[0mplt\u001b[0m\u001b[1;33m.\u001b[0m\u001b[0mplot\u001b[0m\u001b[1;33m(\u001b[0m\u001b[0mhistory\u001b[0m\u001b[1;33m.\u001b[0m\u001b[0mhistory\u001b[0m\u001b[1;33m[\u001b[0m\u001b[1;34m'loss'\u001b[0m\u001b[1;33m]\u001b[0m\u001b[1;33m,\u001b[0m \u001b[0mlabel\u001b[0m\u001b[1;33m=\u001b[0m\u001b[1;34m'Train Loss'\u001b[0m\u001b[1;33m)\u001b[0m\u001b[1;33m\u001b[0m\u001b[1;33m\u001b[0m\u001b[0m\n\u001b[0m\u001b[0;32m      3\u001b[0m \u001b[0mplt\u001b[0m\u001b[1;33m.\u001b[0m\u001b[0mplot\u001b[0m\u001b[1;33m(\u001b[0m\u001b[0mhistory\u001b[0m\u001b[1;33m.\u001b[0m\u001b[0mhistory\u001b[0m\u001b[1;33m[\u001b[0m\u001b[1;34m'val_loss'\u001b[0m\u001b[1;33m]\u001b[0m\u001b[1;33m,\u001b[0m \u001b[0mlabel\u001b[0m\u001b[1;33m=\u001b[0m\u001b[1;34m'Val Loss'\u001b[0m\u001b[1;33m)\u001b[0m\u001b[1;33m\u001b[0m\u001b[1;33m\u001b[0m\u001b[0m\n\u001b[0;32m      4\u001b[0m \u001b[0mplt\u001b[0m\u001b[1;33m.\u001b[0m\u001b[0mxlabel\u001b[0m\u001b[1;33m(\u001b[0m\u001b[1;34m'Epoch'\u001b[0m\u001b[1;33m)\u001b[0m\u001b[1;33m\u001b[0m\u001b[1;33m\u001b[0m\u001b[0m\n\u001b[0;32m      5\u001b[0m \u001b[0mplt\u001b[0m\u001b[1;33m.\u001b[0m\u001b[0mylabel\u001b[0m\u001b[1;33m(\u001b[0m\u001b[1;34m'Loss'\u001b[0m\u001b[1;33m)\u001b[0m\u001b[1;33m\u001b[0m\u001b[1;33m\u001b[0m\u001b[0m\n",
      "\u001b[1;31mNameError\u001b[0m: name 'history' is not defined"
     ]
    }
   ],
   "source": [
    "# Plot the training and validation loss over epochs\n",
    "plt.plot(history.history['loss'], label='Train Loss')\n",
    "plt.plot(history.history['val_loss'], label='Val Loss')\n",
    "plt.xlabel('Epoch')\n",
    "plt.ylabel('Loss')\n",
    "plt.legend()\n",
    "plt.show()\n",
    "\n",
    "# Plot the performance on the validation set\n",
    "y_pred = model.predict(X_test_reshaped)\n",
    "plt.scatter(y_test, y_pred)\n",
    "plt.xlabel('Actual Delivery Time')\n",
    "plt.ylabel('Predicted Delivery Time')\n",
    "plt.title('Performance on Validation Set')\n",
    "plt.show()"
   ]
  },
  {
   "cell_type": "code",
   "execution_count": null,
   "id": "47d33d31",
   "metadata": {},
   "outputs": [],
   "source": []
  }
 ],
 "metadata": {
  "kernelspec": {
   "display_name": "Python 3 (ipykernel)",
   "language": "python",
   "name": "python3"
  },
  "language_info": {
   "codemirror_mode": {
    "name": "ipython",
    "version": 3
   },
   "file_extension": ".py",
   "mimetype": "text/x-python",
   "name": "python",
   "nbconvert_exporter": "python",
   "pygments_lexer": "ipython3",
   "version": "3.9.13"
  }
 },
 "nbformat": 4,
 "nbformat_minor": 5
}
